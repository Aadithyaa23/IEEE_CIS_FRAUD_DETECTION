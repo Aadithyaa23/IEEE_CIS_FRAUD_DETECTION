{
 "cells": [
  {
   "cell_type": "code",
   "execution_count": 4,
   "id": "871d0de9",
   "metadata": {
    "_cell_guid": "b1076dfc-b9ad-4769-8c92-a6c4dae69d19",
    "_uuid": "8f2839f25d086af736a60e9eeb907d3b93b6e0e5",
    "execution": {
     "iopub.execute_input": "2024-07-17T22:40:38.472030Z",
     "iopub.status.busy": "2024-07-17T22:40:38.471629Z",
     "iopub.status.idle": "2024-07-17T22:40:44.937008Z",
     "shell.execute_reply": "2024-07-17T22:40:44.935855Z"
    },
    "papermill": {
     "duration": 6.487704,
     "end_time": "2024-07-17T22:40:44.939872",
     "exception": false,
     "start_time": "2024-07-17T22:40:38.452168",
     "status": "completed"
    },
    "tags": []
   },
   "outputs": [
    {
     "data": {
      "text/html": [
       "        <script type=\"text/javascript\">\n",
       "        window.PlotlyConfig = {MathJaxConfig: 'local'};\n",
       "        if (window.MathJax && window.MathJax.Hub && window.MathJax.Hub.Config) {window.MathJax.Hub.Config({SVG: {font: \"STIX-Web\"}});}\n",
       "        if (typeof require !== 'undefined') {\n",
       "        require.undef(\"plotly\");\n",
       "        requirejs.config({\n",
       "            paths: {\n",
       "                'plotly': ['https://cdn.plot.ly/plotly-2.30.0.min']\n",
       "            }\n",
       "        });\n",
       "        require(['plotly'], function(Plotly) {\n",
       "            window._Plotly = Plotly;\n",
       "        });\n",
       "        }\n",
       "        </script>\n",
       "        "
      ]
     },
     "metadata": {},
     "output_type": "display_data"
    }
   ],
   "source": [
    "# This Python 3 environment comes with many helpful analytics libraries installed\n",
    "# It is defined by the kaggle/python Docker image: https://github.com/kaggle/docker-python\n",
    "# For example, here's several helpful packages to load\n",
    "\n",
    "import numpy as np # linear algebra\n",
    "import pandas as pd # data processing, CSV file I/O (e.g. pd.read_csv)\n",
    "import scipy as sp\n",
    "from scipy import stats\n",
    "import matplotlib.pyplot as plt\n",
    "import matplotlib.ticker as ticker\n",
    "import seaborn as sns\n",
    "\n",
    "# Standard plotly imports\n",
    "import plotly.graph_objs as go\n",
    "import plotly.tools as tls\n",
    "from plotly.offline import iplot, init_notebook_mode\n",
    "import plotly.figure_factory as ff\n",
    "\n",
    "init_notebook_mode(connected=True)\n",
    "\n",
    "# Preprocessing, modelling and evaluating\n",
    "from sklearn import preprocessing\n",
    "from sklearn.preprocessing import LabelEncoder, MinMaxScaler, StandardScaler\n",
    "from sklearn.metrics import confusion_matrix, roc_auc_score\n",
    "from sklearn.model_selection import StratifiedKFold, cross_val_score, KFold\n",
    "from xgboost import XGBClassifier\n",
    "import xgboost as xgb\n",
    "\n",
    "\n",
    "## Hyperopt modules\n",
    "#from hyperopt import fmin, hp, tpe, Trials, space_eval, STATUS_OK, STATUS_RUNNING\n",
    "from functools import partial\n",
    "\n",
    "# Input data files are available in the read-only \"../input/\" directory\n",
    "# For example, running this (by clicking run or pressing Shift+Enter) will list all files under the input directory\n",
    "\n",
    "import os\n",
    "import gc\n",
    "\n",
    "\n",
    "# You can write up to 20GB to the current directory (/kaggle/working/) that gets preserved as output when you create a version using \"Save & Run All\" \n",
    "# You can also write temporary files to /kaggle/temp/, but they won't be saved outside of the current session"
   ]
  },
  {
   "cell_type": "markdown",
   "id": "d71f1962",
   "metadata": {
    "papermill": {
     "duration": 0.01721,
     "end_time": "2024-07-17T22:40:44.974706",
     "exception": false,
     "start_time": "2024-07-17T22:40:44.957496",
     "status": "completed"
    },
    "tags": []
   },
   "source": [
    "# **Import datasets**"
   ]
  },
  {
   "cell_type": "markdown",
   "id": "7eec85a2",
   "metadata": {
    "papermill": {
     "duration": 0.017169,
     "end_time": "2024-07-17T22:40:45.009353",
     "exception": false,
     "start_time": "2024-07-17T22:40:44.992184",
     "status": "completed"
    },
    "tags": []
   },
   "source": [
    "\n",
    "* functions to assist with memory reduction [source of function](https://www.kaggle.com/code/gemartin/load-data-reduce-memory-usage) and dataset representation inspired by and outlier calculations"
   ]
  },
  {
   "cell_type": "code",
   "execution_count": 2,
   "id": "0b2fafb2",
   "metadata": {
    "execution": {
     "iopub.execute_input": "2024-07-17T22:40:45.047348Z",
     "iopub.status.busy": "2024-07-17T22:40:45.046956Z",
     "iopub.status.idle": "2024-07-17T22:40:45.074225Z",
     "shell.execute_reply": "2024-07-17T22:40:45.073266Z"
    },
    "papermill": {
     "duration": 0.049994,
     "end_time": "2024-07-17T22:40:45.076611",
     "exception": false,
     "start_time": "2024-07-17T22:40:45.026617",
     "status": "completed"
    },
    "tags": []
   },
   "outputs": [],
   "source": [
    "def resumetable(df,operator,threshold):\n",
    "    print(f\"Dataset Shape: {df.shape}\")\n",
    "    summary = pd.DataFrame(df.dtypes,columns=['dtypes'])\n",
    "    summary = summary.reset_index()\n",
    "    summary['Name'] = summary['index']\n",
    "    summary = summary[['Name','dtypes']]\n",
    "    summary['Missing'] = df.isnull().sum().values\n",
    "    summary['Missing Pct'] = (df.isnull().sum().values/len(df))*100\n",
    "    summary['Uniques'] = df.nunique().values\n",
    "    summary['First Value'] = df.loc[0].values\n",
    "    summary['Second Value'] = df.loc[1].values\n",
    "    summary['Third Value'] = df.loc[2].values\n",
    "    \n",
    "    for name in summary['Name'].value_counts().index:\n",
    "        summary.loc[summary['Name'] == name, 'Entropy'] = round(stats.entropy(df[name].value_counts(normalize=True), base=2), 2)\n",
    "\n",
    "    # Filter the summary dataframe based on the missing percentage threshold\n",
    "    summary = summary[eval(f\"summary['Missing Pct'] {operator} {threshold}\")]\n",
    "\n",
    "    # Sort the summary dataframe by 'Missing Pct' column in ascending order\n",
    "    summary = summary.sort_values(by='Missing Pct')\n",
    "\n",
    "    print(f\"Dataset Shape: {summary.shape}\")\n",
    "    return summary\n",
    "\n",
    "## Function to reduce the DF size\n",
    "def reduce_mem_usage(df, verbose=True):\n",
    "    numerics = ['int16', 'int32', 'int64', 'float16', 'float32', 'float64']\n",
    "    start_mem = df.memory_usage().sum() / 1024**2    \n",
    "    for col in df.columns:\n",
    "        col_type = df[col].dtypes\n",
    "        if col_type in numerics:\n",
    "            c_min = df[col].min()\n",
    "            c_max = df[col].max()\n",
    "            if str(col_type)[:3] == 'int':\n",
    "                if c_min > np.iinfo(np.int8).min and c_max < np.iinfo(np.int8).max:\n",
    "                    df[col] = df[col].astype(np.int8)\n",
    "                elif c_min > np.iinfo(np.int16).min and c_max < np.iinfo(np.int16).max:\n",
    "                    df[col] = df[col].astype(np.int16)\n",
    "                elif c_min > np.iinfo(np.int32).min and c_max < np.iinfo(np.int32).max:\n",
    "                    df[col] = df[col].astype(np.int32)\n",
    "                elif c_min > np.iinfo(np.int64).min and c_max < np.iinfo(np.int64).max:\n",
    "                    df[col] = df[col].astype(np.int64)  \n",
    "            else:\n",
    "                if c_min > np.finfo(np.float16).min and c_max < np.finfo(np.float16).max:\n",
    "                    df[col] = df[col].astype(np.float16)\n",
    "                elif c_min > np.finfo(np.float32).min and c_max < np.finfo(np.float32).max:\n",
    "                    df[col] = df[col].astype(np.float32)\n",
    "                else:\n",
    "                    df[col] = df[col].astype(np.float64)    \n",
    "    end_mem = df.memory_usage().sum() / 1024**2\n",
    "    if verbose: print('Mem. usage decreased to {:5.2f} Mb ({:.1f}% reduction)'.format(end_mem, 100 * (start_mem - end_mem) / start_mem))\n",
    "    return df\n",
    "\n",
    "def import_data(file):\n",
    "    \"\"\"create a dataframe and optimize its memory usage\"\"\"\n",
    "    df = pd.read_csv(file, parse_dates=True, keep_date_col=True)\n",
    "    df = reduce_mem_usage(df)\n",
    "    return df\n",
    "\n",
    "\n",
    "def CalcOutliers(df_num): \n",
    "\n",
    "    # calculating mean and std of the array\n",
    "    data_mean, data_std = np.mean(df_num), np.std(df_num)\n",
    "\n",
    "    # seting the cut line to both higher and lower values\n",
    "    # You can change this value\n",
    "    cut = data_std * 3\n",
    "\n",
    "    #Calculating the higher and lower cut values\n",
    "    lower, upper = data_mean - cut, data_mean + cut\n",
    "\n",
    "    # creating an array of lower, higher and total outlier values \n",
    "    outliers_lower = [x for x in df_num if x < lower]\n",
    "    outliers_higher = [x for x in df_num if x > upper]\n",
    "    outliers_total = [x for x in df_num if x < lower or x > upper]\n",
    "\n",
    "    # array without outlier values\n",
    "    outliers_removed = [x for x in df_num if x > lower and x < upper]\n",
    "    \n",
    "    print('Identified lowest outliers: %d' % len(outliers_lower)) # printing total number of values in lower cut of outliers\n",
    "    print('Identified upper outliers: %d' % len(outliers_higher)) # printing total number of values in higher cut of outliers\n",
    "    print('Total outlier observations: %d' % len(outliers_total)) # printing total number of values outliers of both sides\n",
    "    print('Non-outlier observations: %d' % len(outliers_removed)) # printing total number of non outlier values\n",
    "    print(\"Total percentual of Outliers: \", round((len(outliers_total) / len(outliers_removed) )*100, 4)) # Percentual of outliers in points\n",
    "    \n",
    "    return\n",
    "import warnings\n",
    "warnings.filterwarnings('ignore')"
   ]
  },
  {
   "cell_type": "code",
   "execution_count": 3,
   "id": "cc673c25",
   "metadata": {
    "execution": {
     "iopub.execute_input": "2024-07-17T22:40:45.113491Z",
     "iopub.status.busy": "2024-07-17T22:40:45.113021Z",
     "iopub.status.idle": "2024-07-17T22:41:26.057407Z",
     "shell.execute_reply": "2024-07-17T22:41:26.056201Z"
    },
    "papermill": {
     "duration": 40.985351,
     "end_time": "2024-07-17T22:41:26.079214",
     "exception": false,
     "start_time": "2024-07-17T22:40:45.093863",
     "status": "completed"
    },
    "tags": []
   },
   "outputs": [
    {
     "name": "stdout",
     "output_type": "stream",
     "text": [
      "Mem. usage decreased to 25.86 Mb (42.7% reduction)\n",
      "Mem. usage decreased to 542.35 Mb (69.4% reduction)\n"
     ]
    }
   ],
   "source": [
    "df_id = import_data('train_identity.csv')\n",
    "df_tr = import_data('train_transaction.csv')"
   ]
  },
  {
   "cell_type": "markdown",
   "id": "301d326f",
   "metadata": {
    "papermill": {
     "duration": 0.019108,
     "end_time": "2024-07-17T22:41:26.118006",
     "exception": false,
     "start_time": "2024-07-17T22:41:26.098898",
     "status": "completed"
    },
    "tags": []
   },
   "source": [
    "Our Goals:\n",
    "* To be able to predict which transactions are fraudulent \n",
    "* Understand the distribution of the data.(making sense of the data) \n",
    "* decide what to do with null values(mainly the features that have the nulls values)\n",
    "* check the relationship of the null value columns with the target(isFraud) \n",
    "\n",
    "In getting to our goals there is a EDA which will be evolving as we try to improve our model performance.\n",
    "therefore:\n",
    "1. EDA\n",
    "1. Pre-processing(since our data is Heavily imbalanced we must do something)\n",
    "2. Split data into (Training/Test)(70/30) respectively\n",
    "3.  "
   ]
  },
  {
   "cell_type": "markdown",
   "id": "23f4bf86",
   "metadata": {
    "papermill": {
     "duration": 0.019473,
     "end_time": "2024-07-17T22:41:26.157744",
     "exception": false,
     "start_time": "2024-07-17T22:41:26.138271",
     "status": "completed"
    },
    "tags": []
   },
   "source": [
    "# make sense of the data"
   ]
  },
  {
   "cell_type": "markdown",
   "id": "ee92e4be",
   "metadata": {
    "papermill": {
     "duration": 0.019782,
     "end_time": "2024-07-17T22:41:26.197191",
     "exception": false,
     "start_time": "2024-07-17T22:41:26.177409",
     "status": "completed"
    },
    "tags": []
   },
   "source": [
    "functions to assist with data visualisation"
   ]
  },
  {
   "cell_type": "code",
   "execution_count": 5,
   "id": "b4fdf32a",
   "metadata": {
    "execution": {
     "iopub.execute_input": "2024-07-17T22:41:26.239004Z",
     "iopub.status.busy": "2024-07-17T22:41:26.237807Z",
     "iopub.status.idle": "2024-07-17T22:41:26.254231Z",
     "shell.execute_reply": "2024-07-17T22:41:26.253246Z"
    },
    "papermill": {
     "duration": 0.040577,
     "end_time": "2024-07-17T22:41:26.257462",
     "exception": false,
     "start_time": "2024-07-17T22:41:26.216885",
     "status": "completed"
    },
    "tags": []
   },
   "outputs": [],
   "source": [
    "\n",
    "def hist_with_hue(df, col, hue):\n",
    "    plt.figure(figsize=(13.5, 6))\n",
    "\n",
    "    # Plotting the histogram with hue\n",
    "    plt.subplot(1, 2, 1)\n",
    "    sns.histplot(x=col, hue=hue, data=df, kde=True, palette='Set1')\n",
    "\n",
    "    # Configure the x-axis\n",
    "    ax = plt.gca()\n",
    "    ax.xaxis.set_major_locator(ticker.MaxNLocator(integer=True))\n",
    "    plt.xticks(rotation=90, ha='center')\n",
    "\n",
    "    plt.title(f\"Distribution by {col}\", fontweight=\"black\", size=14, pad=10)\n",
    "\n",
    "    # Plotting the boxplot with hue\n",
    "    plt.subplot(1, 2, 2)\n",
    "    sns.boxplot(x=hue, y=col, data=df, palette='Set2')\n",
    "\n",
    "    plt.title(f\"Distribution by {col} & {hue}\", fontweight=\"black\", size=14, pad=10)\n",
    "\n",
    "    plt.tight_layout()\n",
    "    plt.show()\n",
    "    \n",
    "    \n",
    "# Distribution graphs (histogram/bar graph) of column data\n",
    "def plotPerColumnDistribution(df, nGraphShown, nGraphPerRow, hue):\n",
    "    nunique = df.nunique()\n",
    "    df = df[[col for col in df if nunique[col] > 1 and nunique[col] < 50]]  # For displaying purposes, pick columns that have between 1 and 50 unique values\n",
    "    nRow, nCol = df.shape\n",
    "    columnNames = list(df)\n",
    "    nGraphRow = round((nCol + nGraphPerRow) / nGraphPerRow)\n",
    "    plt.figure(figsize=(6 * nGraphPerRow, 8 * nGraphRow), dpi=80, facecolor='w', edgecolor='k')\n",
    "\n",
    "    for i in range(min(nCol, nGraphShown)):\n",
    "        plt.subplot(nGraphRow, nGraphPerRow, i + 1)\n",
    "        columnDf = df.iloc[:, i]\n",
    "        \n",
    "        if not np.issubdtype(columnDf.dtype, np.number):\n",
    "            sns.countplot(data=df, x=columnDf, hue=hue)\n",
    "        else:\n",
    "            sns.histplot(data=df, x=columnDf, hue=hue, kde=False, bins=30)\n",
    "        \n",
    "        plt.ylabel('Counts')\n",
    "        plt.xticks(rotation=90)\n",
    "        plt.title(f'{columnNames[i]} (column {i})')\n",
    "    \n",
    "    plt.tight_layout(pad=1.0, w_pad=1.0, h_pad=1.0)\n",
    "    plt.show()"
   ]
  },
  {
   "cell_type": "code",
   "execution_count": 6,
   "id": "72d5cd27",
   "metadata": {
    "execution": {
     "iopub.execute_input": "2024-07-17T22:41:26.338121Z",
     "iopub.status.busy": "2024-07-17T22:41:26.337635Z",
     "iopub.status.idle": "2024-07-17T22:41:26.363384Z",
     "shell.execute_reply": "2024-07-17T22:41:26.362035Z"
    },
    "papermill": {
     "duration": 0.048947,
     "end_time": "2024-07-17T22:41:26.365891",
     "exception": false,
     "start_time": "2024-07-17T22:41:26.316944",
     "status": "completed"
    },
    "tags": []
   },
   "outputs": [
    {
     "name": "stdout",
     "output_type": "stream",
     "text": [
      "No Frauds 96.5 % of the dataset\n",
      "Frauds 3.5 % of the dataset\n"
     ]
    }
   ],
   "source": [
    "# The classes are heavily skewed we need to solve this issue later.\n",
    "print('No Frauds', round(df_tr['isFraud'].value_counts()[0]/len(df_tr) * 100,2), '% of the dataset')\n",
    "print('Frauds', round(df_tr['isFraud'].value_counts()[1]/len(df_tr) * 100,2), '% of the dataset')"
   ]
  },
  {
   "cell_type": "markdown",
   "id": "4f1d8f1f",
   "metadata": {
    "papermill": {
     "duration": 0.017184,
     "end_time": "2024-07-17T22:41:26.400965",
     "exception": false,
     "start_time": "2024-07-17T22:41:26.383781",
     "status": "completed"
    },
    "tags": []
   },
   "source": [
    "**Merge Identity and transaction dataset**"
   ]
  },
  {
   "cell_type": "code",
   "execution_count": 7,
   "id": "af853654",
   "metadata": {
    "execution": {
     "iopub.execute_input": "2024-07-17T22:41:26.438365Z",
     "iopub.status.busy": "2024-07-17T22:41:26.437377Z",
     "iopub.status.idle": "2024-07-17T22:41:27.303981Z",
     "shell.execute_reply": "2024-07-17T22:41:27.302754Z"
    },
    "papermill": {
     "duration": 0.888369,
     "end_time": "2024-07-17T22:41:27.306937",
     "exception": false,
     "start_time": "2024-07-17T22:41:26.418568",
     "status": "completed"
    },
    "tags": []
   },
   "outputs": [],
   "source": [
    "train_df = df_tr.merge(df_id,how='left',left_index=True,right_index=True)"
   ]
  },
  {
   "cell_type": "code",
   "execution_count": 8,
   "id": "3cb4e36b",
   "metadata": {
    "execution": {
     "iopub.execute_input": "2024-07-17T22:41:27.349769Z",
     "iopub.status.busy": "2024-07-17T22:41:27.348534Z",
     "iopub.status.idle": "2024-07-17T22:41:27.357099Z",
     "shell.execute_reply": "2024-07-17T22:41:27.355949Z"
    },
    "papermill": {
     "duration": 0.032465,
     "end_time": "2024-07-17T22:41:27.359632",
     "exception": false,
     "start_time": "2024-07-17T22:41:27.327167",
     "status": "completed"
    },
    "tags": []
   },
   "outputs": [
    {
     "data": {
      "text/plain": [
       "(590540, 435)"
      ]
     },
     "execution_count": 8,
     "metadata": {},
     "output_type": "execute_result"
    }
   ],
   "source": [
    "train_df.shape"
   ]
  },
  {
   "cell_type": "code",
   "execution_count": 9,
   "id": "4dfb8b1c",
   "metadata": {
    "execution": {
     "iopub.execute_input": "2024-07-17T22:41:27.397605Z",
     "iopub.status.busy": "2024-07-17T22:41:27.397110Z",
     "iopub.status.idle": "2024-07-17T22:41:45.205994Z",
     "shell.execute_reply": "2024-07-17T22:41:45.204832Z"
    },
    "papermill": {
     "duration": 17.830751,
     "end_time": "2024-07-17T22:41:45.208406",
     "exception": false,
     "start_time": "2024-07-17T22:41:27.377655",
     "status": "completed"
    },
    "tags": []
   },
   "outputs": [
    {
     "name": "stdout",
     "output_type": "stream",
     "text": [
      "Dataset Shape: (590540, 435)\n",
      "Dataset Shape: (209, 9)\n"
     ]
    },
    {
     "data": {
      "text/html": [
       "<div>\n",
       "<style scoped>\n",
       "    .dataframe tbody tr th:only-of-type {\n",
       "        vertical-align: middle;\n",
       "    }\n",
       "\n",
       "    .dataframe tbody tr th {\n",
       "        vertical-align: top;\n",
       "    }\n",
       "\n",
       "    .dataframe thead th {\n",
       "        text-align: right;\n",
       "    }\n",
       "</style>\n",
       "<table border=\"1\" class=\"dataframe\">\n",
       "  <thead>\n",
       "    <tr style=\"text-align: right;\">\n",
       "      <th></th>\n",
       "      <th>Name</th>\n",
       "      <th>dtypes</th>\n",
       "      <th>Missing</th>\n",
       "      <th>Missing Pct</th>\n",
       "      <th>Uniques</th>\n",
       "      <th>First Value</th>\n",
       "      <th>Second Value</th>\n",
       "      <th>Third Value</th>\n",
       "      <th>Entropy</th>\n",
       "    </tr>\n",
       "  </thead>\n",
       "  <tbody>\n",
       "    <tr>\n",
       "      <th>394</th>\n",
       "      <td>TransactionID_y</td>\n",
       "      <td>float64</td>\n",
       "      <td>446307</td>\n",
       "      <td>75.576083</td>\n",
       "      <td>144233</td>\n",
       "      <td>2987004.0</td>\n",
       "      <td>2987008.0</td>\n",
       "      <td>2987010.0</td>\n",
       "      <td>17.14</td>\n",
       "    </tr>\n",
       "    <tr>\n",
       "      <th>395</th>\n",
       "      <td>id_01</td>\n",
       "      <td>float16</td>\n",
       "      <td>446307</td>\n",
       "      <td>75.576083</td>\n",
       "      <td>77</td>\n",
       "      <td>0.0</td>\n",
       "      <td>-5.0</td>\n",
       "      <td>-5.0</td>\n",
       "      <td>2.27</td>\n",
       "    </tr>\n",
       "    <tr>\n",
       "      <th>406</th>\n",
       "      <td>id_12</td>\n",
       "      <td>object</td>\n",
       "      <td>446307</td>\n",
       "      <td>75.576083</td>\n",
       "      <td>2</td>\n",
       "      <td>NotFound</td>\n",
       "      <td>NotFound</td>\n",
       "      <td>NotFound</td>\n",
       "      <td>0.60</td>\n",
       "    </tr>\n",
       "    <tr>\n",
       "      <th>309</th>\n",
       "      <td>V255</td>\n",
       "      <td>float16</td>\n",
       "      <td>449124</td>\n",
       "      <td>76.053104</td>\n",
       "      <td>46</td>\n",
       "      <td>NaN</td>\n",
       "      <td>NaN</td>\n",
       "      <td>NaN</td>\n",
       "      <td>0.90</td>\n",
       "    </tr>\n",
       "    <tr>\n",
       "      <th>310</th>\n",
       "      <td>V256</td>\n",
       "      <td>float16</td>\n",
       "      <td>449124</td>\n",
       "      <td>76.053104</td>\n",
       "      <td>48</td>\n",
       "      <td>NaN</td>\n",
       "      <td>NaN</td>\n",
       "      <td>NaN</td>\n",
       "      <td>0.93</td>\n",
       "    </tr>\n",
       "    <tr>\n",
       "      <th>...</th>\n",
       "      <td>...</td>\n",
       "      <td>...</td>\n",
       "      <td>...</td>\n",
       "      <td>...</td>\n",
       "      <td>...</td>\n",
       "      <td>...</td>\n",
       "      <td>...</td>\n",
       "      <td>...</td>\n",
       "      <td>...</td>\n",
       "    </tr>\n",
       "    <tr>\n",
       "      <th>415</th>\n",
       "      <td>id_21</td>\n",
       "      <td>float16</td>\n",
       "      <td>585381</td>\n",
       "      <td>99.126393</td>\n",
       "      <td>490</td>\n",
       "      <td>NaN</td>\n",
       "      <td>NaN</td>\n",
       "      <td>NaN</td>\n",
       "      <td>4.63</td>\n",
       "    </tr>\n",
       "    <tr>\n",
       "      <th>402</th>\n",
       "      <td>id_08</td>\n",
       "      <td>float16</td>\n",
       "      <td>585385</td>\n",
       "      <td>99.127070</td>\n",
       "      <td>94</td>\n",
       "      <td>NaN</td>\n",
       "      <td>NaN</td>\n",
       "      <td>NaN</td>\n",
       "      <td>5.72</td>\n",
       "    </tr>\n",
       "    <tr>\n",
       "      <th>401</th>\n",
       "      <td>id_07</td>\n",
       "      <td>float16</td>\n",
       "      <td>585385</td>\n",
       "      <td>99.127070</td>\n",
       "      <td>84</td>\n",
       "      <td>NaN</td>\n",
       "      <td>NaN</td>\n",
       "      <td>NaN</td>\n",
       "      <td>5.39</td>\n",
       "    </tr>\n",
       "    <tr>\n",
       "      <th>419</th>\n",
       "      <td>id_25</td>\n",
       "      <td>float16</td>\n",
       "      <td>585408</td>\n",
       "      <td>99.130965</td>\n",
       "      <td>341</td>\n",
       "      <td>NaN</td>\n",
       "      <td>NaN</td>\n",
       "      <td>NaN</td>\n",
       "      <td>4.46</td>\n",
       "    </tr>\n",
       "    <tr>\n",
       "      <th>418</th>\n",
       "      <td>id_24</td>\n",
       "      <td>float16</td>\n",
       "      <td>585793</td>\n",
       "      <td>99.196159</td>\n",
       "      <td>12</td>\n",
       "      <td>NaN</td>\n",
       "      <td>NaN</td>\n",
       "      <td>NaN</td>\n",
       "      <td>1.38</td>\n",
       "    </tr>\n",
       "  </tbody>\n",
       "</table>\n",
       "<p>209 rows × 9 columns</p>\n",
       "</div>"
      ],
      "text/plain": [
       "                Name   dtypes  Missing  Missing Pct  Uniques First Value  \\\n",
       "394  TransactionID_y  float64   446307    75.576083   144233   2987004.0   \n",
       "395            id_01  float16   446307    75.576083       77         0.0   \n",
       "406            id_12   object   446307    75.576083        2    NotFound   \n",
       "309             V255  float16   449124    76.053104       46         NaN   \n",
       "310             V256  float16   449124    76.053104       48         NaN   \n",
       "..               ...      ...      ...          ...      ...         ...   \n",
       "415            id_21  float16   585381    99.126393      490         NaN   \n",
       "402            id_08  float16   585385    99.127070       94         NaN   \n",
       "401            id_07  float16   585385    99.127070       84         NaN   \n",
       "419            id_25  float16   585408    99.130965      341         NaN   \n",
       "418            id_24  float16   585793    99.196159       12         NaN   \n",
       "\n",
       "    Second Value Third Value  Entropy  \n",
       "394    2987008.0   2987010.0    17.14  \n",
       "395         -5.0        -5.0     2.27  \n",
       "406     NotFound    NotFound     0.60  \n",
       "309          NaN         NaN     0.90  \n",
       "310          NaN         NaN     0.93  \n",
       "..           ...         ...      ...  \n",
       "415          NaN         NaN     4.63  \n",
       "402          NaN         NaN     5.72  \n",
       "401          NaN         NaN     5.39  \n",
       "419          NaN         NaN     4.46  \n",
       "418          NaN         NaN     1.38  \n",
       "\n",
       "[209 rows x 9 columns]"
      ]
     },
     "execution_count": 9,
     "metadata": {},
     "output_type": "execute_result"
    }
   ],
   "source": [
    "resumetable(train_df,\">=\",70) "
   ]
  },
  {
   "cell_type": "code",
   "execution_count": 10,
   "id": "1643a82d",
   "metadata": {
    "execution": {
     "iopub.execute_input": "2024-07-17T22:41:45.247489Z",
     "iopub.status.busy": "2024-07-17T22:41:45.246580Z",
     "iopub.status.idle": "2024-07-17T22:41:45.253518Z",
     "shell.execute_reply": "2024-07-17T22:41:45.252480Z"
    },
    "papermill": {
     "duration": 0.028758,
     "end_time": "2024-07-17T22:41:45.255779",
     "exception": false,
     "start_time": "2024-07-17T22:41:45.227021",
     "status": "completed"
    },
    "tags": []
   },
   "outputs": [
    {
     "data": {
      "text/plain": [
       "(590540, 435)"
      ]
     },
     "execution_count": 10,
     "metadata": {},
     "output_type": "execute_result"
    }
   ],
   "source": [
    "train_df.shape"
   ]
  },
  {
   "cell_type": "markdown",
   "id": "e835eb2d",
   "metadata": {
    "execution": {
     "iopub.execute_input": "2024-07-07T20:48:17.750226Z",
     "iopub.status.busy": "2024-07-07T20:48:17.749841Z",
     "iopub.status.idle": "2024-07-07T20:48:18.276890Z",
     "shell.execute_reply": "2024-07-07T20:48:18.275475Z",
     "shell.execute_reply.started": "2024-07-07T20:48:17.750179Z"
    },
    "papermill": {
     "duration": 0.017995,
     "end_time": "2024-07-17T22:41:45.292036",
     "exception": false,
     "start_time": "2024-07-17T22:41:45.274041",
     "status": "completed"
    },
    "tags": []
   },
   "source": [
    "***error*** bar(train_df,\"isFraud\",\"TransactionAmt\",\"Transactions Distribution\",\"Total Amount in Transaction Amt\")"
   ]
  },
  {
   "cell_type": "markdown",
   "id": "6341b8c9",
   "metadata": {
    "papermill": {
     "duration": 0.018131,
     "end_time": "2024-07-17T22:41:45.328525",
     "exception": false,
     "start_time": "2024-07-17T22:41:45.310394",
     "status": "completed"
    },
    "tags": []
   },
   "source": [
    "we have alot of dimensions, reducing these should take priority however preservation of information is to be considered\n",
    "* feature selection/importance"
   ]
  },
  {
   "cell_type": "markdown",
   "id": "fad1fac6",
   "metadata": {
    "papermill": {
     "duration": 0.017982,
     "end_time": "2024-07-17T22:41:45.364826",
     "exception": false,
     "start_time": "2024-07-17T22:41:45.346844",
     "status": "completed"
    },
    "tags": []
   },
   "source": [
    "Categorical Features - Transaction\n",
    "\n",
    "ProductCD\n",
    "card1 - card6\n",
    "addr1, addr2\n",
    "P_emaildomain\n",
    "R_emaildomain\n",
    "M1 - M9\n",
    "Categorical Features - Identity\n",
    "\n",
    "DeviceType\n",
    "DeviceInfo\n",
    "id_12 - id_38\n"
   ]
  },
  {
   "cell_type": "markdown",
   "id": "06d949c8",
   "metadata": {
    "papermill": {
     "duration": 0.017965,
     "end_time": "2024-07-17T22:41:45.401029",
     "exception": false,
     "start_time": "2024-07-17T22:41:45.383064",
     "status": "completed"
    },
    "tags": []
   },
   "source": [
    "# Univariate Analysis"
   ]
  },
  {
   "cell_type": "code",
   "execution_count": 11,
   "id": "c3162279",
   "metadata": {
    "execution": {
     "iopub.execute_input": "2024-07-17T22:41:45.439564Z",
     "iopub.status.busy": "2024-07-17T22:41:45.439129Z",
     "iopub.status.idle": "2024-07-17T22:41:45.446797Z",
     "shell.execute_reply": "2024-07-17T22:41:45.445667Z"
    },
    "papermill": {
     "duration": 0.029757,
     "end_time": "2024-07-17T22:41:45.449138",
     "exception": false,
     "start_time": "2024-07-17T22:41:45.419381",
     "status": "completed"
    },
    "tags": []
   },
   "outputs": [
    {
     "data": {
      "text/plain": [
       "48"
      ]
     },
     "execution_count": 11,
     "metadata": {},
     "output_type": "execute_result"
    }
   ],
   "source": [
    "round((235 + 5-1) / 5)"
   ]
  },
  {
   "cell_type": "markdown",
   "id": "8d89ff43",
   "metadata": {
    "execution": {
     "iopub.execute_input": "2024-07-08T03:10:20.663177Z",
     "iopub.status.busy": "2024-07-08T03:10:20.662662Z",
     "iopub.status.idle": "2024-07-08T03:10:29.630462Z",
     "shell.execute_reply": "2024-07-08T03:10:29.628456Z",
     "shell.execute_reply.started": "2024-07-08T03:10:20.663137Z"
    },
    "papermill": {
     "duration": 0.083918,
     "end_time": "2024-07-17T22:41:45.551596",
     "exception": false,
     "start_time": "2024-07-17T22:41:45.467678",
     "status": "completed"
    },
    "tags": []
   },
   "source": [
    "plotPerColumnDistribution(train_df, 20, 5,'isFraud')"
   ]
  },
  {
   "cell_type": "markdown",
   "id": "a8ce8363",
   "metadata": {
    "papermill": {
     "duration": 0.019643,
     "end_time": "2024-07-17T22:41:45.589890",
     "exception": false,
     "start_time": "2024-07-17T22:41:45.570247",
     "status": "completed"
    },
    "tags": []
   },
   "source": [
    "remove TransactionID_x, TransactionID_y, and TransactionDT"
   ]
  },
  {
   "cell_type": "code",
   "execution_count": 12,
   "id": "f0b1e033",
   "metadata": {
    "execution": {
     "iopub.execute_input": "2024-07-17T22:41:45.629466Z",
     "iopub.status.busy": "2024-07-17T22:41:45.628404Z",
     "iopub.status.idle": "2024-07-17T22:41:46.899715Z",
     "shell.execute_reply": "2024-07-17T22:41:46.898559Z"
    },
    "papermill": {
     "duration": 1.293913,
     "end_time": "2024-07-17T22:41:46.902492",
     "exception": false,
     "start_time": "2024-07-17T22:41:45.608579",
     "status": "completed"
    },
    "tags": []
   },
   "outputs": [],
   "source": [
    "train_df.drop(columns=['TransactionID_x', 'TransactionDT'], inplace=True)"
   ]
  },
  {
   "cell_type": "code",
   "execution_count": 13,
   "id": "2130ca34",
   "metadata": {
    "execution": {
     "iopub.execute_input": "2024-07-17T22:41:46.941961Z",
     "iopub.status.busy": "2024-07-17T22:41:46.941574Z",
     "iopub.status.idle": "2024-07-17T22:41:46.950934Z",
     "shell.execute_reply": "2024-07-17T22:41:46.949872Z"
    },
    "papermill": {
     "duration": 0.032553,
     "end_time": "2024-07-17T22:41:46.954236",
     "exception": false,
     "start_time": "2024-07-17T22:41:46.921683",
     "status": "completed"
    },
    "tags": []
   },
   "outputs": [
    {
     "name": "stdout",
     "output_type": "stream",
     "text": [
      "Numerical columns:  ['isFraud', 'TransactionAmt', 'dist1', 'dist2', 'C1', 'C2', 'C3', 'C4', 'C5', 'C6', 'C7', 'C8', 'C9', 'C10', 'C11', 'C12', 'C13', 'C14', 'D1', 'D2', 'D3', 'D4', 'D5', 'D6', 'D7', 'D8', 'D9', 'D10', 'D11', 'D12', 'D13', 'D14', 'D15', 'V1', 'V2', 'V3', 'V4', 'V5', 'V6', 'V7', 'V8', 'V9', 'V10', 'V11', 'V12', 'V13', 'V14', 'V15', 'V16', 'V17', 'V18', 'V19', 'V20', 'V21', 'V22', 'V23', 'V24', 'V25', 'V26', 'V27', 'V28', 'V29', 'V30', 'V31', 'V32', 'V33', 'V34', 'V35', 'V36', 'V37', 'V38', 'V39', 'V40', 'V41', 'V42', 'V43', 'V44', 'V45', 'V46', 'V47', 'V48', 'V49', 'V50', 'V51', 'V52', 'V53', 'V54', 'V55', 'V56', 'V57', 'V58', 'V59', 'V60', 'V61', 'V62', 'V63', 'V64', 'V65', 'V66', 'V67', 'V68', 'V69', 'V70', 'V71', 'V72', 'V73', 'V74', 'V75', 'V76', 'V77', 'V78', 'V79', 'V80', 'V81', 'V82', 'V83', 'V84', 'V85', 'V86', 'V87', 'V88', 'V89', 'V90', 'V91', 'V92', 'V93', 'V94', 'V95', 'V96', 'V97', 'V98', 'V99', 'V100', 'V101', 'V102', 'V103', 'V104', 'V105', 'V106', 'V107', 'V108', 'V109', 'V110', 'V111', 'V112', 'V113', 'V114', 'V115', 'V116', 'V117', 'V118', 'V119', 'V120', 'V121', 'V122', 'V123', 'V124', 'V125', 'V126', 'V127', 'V128', 'V129', 'V130', 'V131', 'V132', 'V133', 'V134', 'V135', 'V136', 'V137', 'V138', 'V139', 'V140', 'V141', 'V142', 'V143', 'V144', 'V145', 'V146', 'V147', 'V148', 'V149', 'V150', 'V151', 'V152', 'V153', 'V154', 'V155', 'V156', 'V157', 'V158', 'V159', 'V160', 'V161', 'V162', 'V163', 'V164', 'V165', 'V166', 'V167', 'V168', 'V169', 'V170', 'V171', 'V172', 'V173', 'V174', 'V175', 'V176', 'V177', 'V178', 'V179', 'V180', 'V181', 'V182', 'V183', 'V184', 'V185', 'V186', 'V187', 'V188', 'V189', 'V190', 'V191', 'V192', 'V193', 'V194', 'V195', 'V196', 'V197', 'V198', 'V199', 'V200', 'V201', 'V202', 'V203', 'V204', 'V205', 'V206', 'V207', 'V208', 'V209', 'V210', 'V211', 'V212', 'V213', 'V214', 'V215', 'V216', 'V217', 'V218', 'V219', 'V220', 'V221', 'V222', 'V223', 'V224', 'V225', 'V226', 'V227', 'V228', 'V229', 'V230', 'V231', 'V232', 'V233', 'V234', 'V235', 'V236', 'V237', 'V238', 'V239', 'V240', 'V241', 'V242', 'V243', 'V244', 'V245', 'V246', 'V247', 'V248', 'V249', 'V250', 'V251', 'V252', 'V253', 'V254', 'V255', 'V256', 'V257', 'V258', 'V259', 'V260', 'V261', 'V262', 'V263', 'V264', 'V265', 'V266', 'V267', 'V268', 'V269', 'V270', 'V271', 'V272', 'V273', 'V274', 'V275', 'V276', 'V277', 'V278', 'V279', 'V280', 'V281', 'V282', 'V283', 'V284', 'V285', 'V286', 'V287', 'V288', 'V289', 'V290', 'V291', 'V292', 'V293', 'V294', 'V295', 'V296', 'V297', 'V298', 'V299', 'V300', 'V301', 'V302', 'V303', 'V304', 'V305', 'V306', 'V307', 'V308', 'V309', 'V310', 'V311', 'V312', 'V313', 'V314', 'V315', 'V316', 'V317', 'V318', 'V319', 'V320', 'V321', 'V322', 'V323', 'V324', 'V325', 'V326', 'V327', 'V328', 'V329', 'V330', 'V331', 'V332', 'V333', 'V334', 'V335', 'V336', 'V337', 'V338', 'V339', 'TransactionID_y', 'id_01', 'id_02', 'id_03', 'id_04', 'id_05', 'id_06', 'id_07', 'id_08', 'id_09', 'id_10', 'id_11']\n",
      "Categoric columns:  ['ProductCD', 'card1', 'card2', 'card3', 'card4', 'card5', 'card6', 'addr1', 'addr2', 'P_emaildomain', 'R_emaildomain', 'M1', 'M2', 'M3', 'M4', 'M5', 'M6', 'M7', 'M8', 'M9', 'DeviceType', 'DeviceInfo', 'id_12', 'id_13', 'id_14', 'id_15', 'id_16', 'id_17', 'id_18', 'id_19', 'id_20', 'id_21', 'id_22', 'id_23', 'id_24', 'id_25', 'id_26', 'id_27', 'id_28', 'id_29', 'id_30', 'id_31', 'id_32', 'id_33', 'id_34', 'id_35', 'id_36', 'id_37', 'id_38']\n"
     ]
    }
   ],
   "source": [
    "# Categoric Columns are taken from Data tab of competition \n",
    "categoric_columns = ['ProductCD',\n",
    "                     'card1', 'card2', 'card3', 'card4', 'card5', 'card6',\n",
    "                     'addr1', 'addr2',\n",
    "                     'P_emaildomain', 'R_emaildomain',\n",
    "                     'M1', 'M2', 'M3', 'M4', 'M5', 'M6', 'M7', 'M8', 'M9',\n",
    "                     'DeviceType', 'DeviceInfo',\n",
    "                     'id_12', 'id_13', 'id_14', 'id_15', 'id_16','id_17', 'id_18', 'id_19', 'id_20', 'id_21', 'id_22', 'id_23', 'id_24',\n",
    "                     'id_25', 'id_26','id_27','id_28','id_29', 'id_30', 'id_31', 'id_32', 'id_33', 'id_34','id_35', 'id_36', 'id_37', 'id_38']\n",
    "numeric_columns = []\n",
    "\n",
    "for i in train_df.columns:\n",
    "    if i not in categoric_columns:\n",
    "        numeric_columns.append(i)\n",
    "\n",
    "print('Numerical columns: ', numeric_columns)\n",
    "print('Categoric columns: ', categoric_columns)"
   ]
  },
  {
   "cell_type": "code",
   "execution_count": 14,
   "id": "c0e59425",
   "metadata": {
    "execution": {
     "iopub.execute_input": "2024-07-17T22:41:46.994097Z",
     "iopub.status.busy": "2024-07-17T22:41:46.993705Z",
     "iopub.status.idle": "2024-07-17T22:41:46.998806Z",
     "shell.execute_reply": "2024-07-17T22:41:46.997610Z"
    },
    "papermill": {
     "duration": 0.028005,
     "end_time": "2024-07-17T22:41:47.001163",
     "exception": false,
     "start_time": "2024-07-17T22:41:46.973158",
     "status": "completed"
    },
    "tags": []
   },
   "outputs": [],
   "source": [
    "numeric_columns.remove('isFraud')"
   ]
  },
  {
   "cell_type": "code",
   "execution_count": 15,
   "id": "a05502bd",
   "metadata": {
    "execution": {
     "iopub.execute_input": "2024-07-17T22:41:47.042256Z",
     "iopub.status.busy": "2024-07-17T22:41:47.041235Z",
     "iopub.status.idle": "2024-07-17T22:41:50.402544Z",
     "shell.execute_reply": "2024-07-17T22:41:50.401317Z"
    },
    "papermill": {
     "duration": 3.384681,
     "end_time": "2024-07-17T22:41:50.405600",
     "exception": false,
     "start_time": "2024-07-17T22:41:47.020919",
     "status": "completed"
    },
    "tags": []
   },
   "outputs": [],
   "source": [
    "train_df[numeric_columns] = train_df[numeric_columns].astype('float64')"
   ]
  },
  {
   "cell_type": "markdown",
   "id": "0d049d9a",
   "metadata": {
    "papermill": {
     "duration": 0.018481,
     "end_time": "2024-07-17T22:41:50.443038",
     "exception": false,
     "start_time": "2024-07-17T22:41:50.424557",
     "status": "completed"
    },
    "tags": []
   },
   "source": [
    "# Normalization and Encoding"
   ]
  },
  {
   "cell_type": "code",
   "execution_count": 16,
   "id": "8725abcb",
   "metadata": {
    "execution": {
     "iopub.execute_input": "2024-07-17T22:41:50.482333Z",
     "iopub.status.busy": "2024-07-17T22:41:50.481930Z",
     "iopub.status.idle": "2024-07-17T22:42:09.301007Z",
     "shell.execute_reply": "2024-07-17T22:42:09.299907Z"
    },
    "papermill": {
     "duration": 18.842096,
     "end_time": "2024-07-17T22:42:09.304064",
     "exception": false,
     "start_time": "2024-07-17T22:41:50.461968",
     "status": "completed"
    },
    "tags": []
   },
   "outputs": [],
   "source": [
    "# Initialize the scaler and encoder\n",
    "scaler = StandardScaler()\n",
    "encoder = LabelEncoder()\n",
    "    \n",
    "# Normalize numerical columns\n",
    "train_df[numeric_columns] = scaler.fit_transform(train_df[numeric_columns])\n",
    "    \n",
    "# Encode categorical columns\n",
    "for column in categoric_columns:\n",
    "    train_df[column] = encoder.fit_transform(train_df[column])"
   ]
  },
  {
   "cell_type": "code",
   "execution_count": 17,
   "id": "3679f65b",
   "metadata": {
    "execution": {
     "iopub.execute_input": "2024-07-17T22:42:09.344397Z",
     "iopub.status.busy": "2024-07-17T22:42:09.343933Z",
     "iopub.status.idle": "2024-07-17T22:42:09.373186Z",
     "shell.execute_reply": "2024-07-17T22:42:09.372055Z"
    },
    "papermill": {
     "duration": 0.05238,
     "end_time": "2024-07-17T22:42:09.375781",
     "exception": false,
     "start_time": "2024-07-17T22:42:09.323401",
     "status": "completed"
    },
    "tags": []
   },
   "outputs": [
    {
     "data": {
      "text/html": [
       "<div>\n",
       "<style scoped>\n",
       "    .dataframe tbody tr th:only-of-type {\n",
       "        vertical-align: middle;\n",
       "    }\n",
       "\n",
       "    .dataframe tbody tr th {\n",
       "        vertical-align: top;\n",
       "    }\n",
       "\n",
       "    .dataframe thead th {\n",
       "        text-align: right;\n",
       "    }\n",
       "</style>\n",
       "<table border=\"1\" class=\"dataframe\">\n",
       "  <thead>\n",
       "    <tr style=\"text-align: right;\">\n",
       "      <th></th>\n",
       "      <th>isFraud</th>\n",
       "      <th>TransactionAmt</th>\n",
       "      <th>ProductCD</th>\n",
       "      <th>card1</th>\n",
       "      <th>card2</th>\n",
       "      <th>card3</th>\n",
       "      <th>card4</th>\n",
       "      <th>card5</th>\n",
       "      <th>card6</th>\n",
       "      <th>addr1</th>\n",
       "      <th>...</th>\n",
       "      <th>id_31</th>\n",
       "      <th>id_32</th>\n",
       "      <th>id_33</th>\n",
       "      <th>id_34</th>\n",
       "      <th>id_35</th>\n",
       "      <th>id_36</th>\n",
       "      <th>id_37</th>\n",
       "      <th>id_38</th>\n",
       "      <th>DeviceType</th>\n",
       "      <th>DeviceInfo</th>\n",
       "    </tr>\n",
       "  </thead>\n",
       "  <tbody>\n",
       "    <tr>\n",
       "      <th>0</th>\n",
       "      <td>0</td>\n",
       "      <td>-0.278174</td>\n",
       "      <td>4</td>\n",
       "      <td>10095</td>\n",
       "      <td>500</td>\n",
       "      <td>42</td>\n",
       "      <td>1</td>\n",
       "      <td>38</td>\n",
       "      <td>1</td>\n",
       "      <td>166</td>\n",
       "      <td>...</td>\n",
       "      <td>123</td>\n",
       "      <td>3</td>\n",
       "      <td>164</td>\n",
       "      <td>3</td>\n",
       "      <td>1</td>\n",
       "      <td>0</td>\n",
       "      <td>1</td>\n",
       "      <td>1</td>\n",
       "      <td>1</td>\n",
       "      <td>954</td>\n",
       "    </tr>\n",
       "    <tr>\n",
       "      <th>1</th>\n",
       "      <td>0</td>\n",
       "      <td>-0.443337</td>\n",
       "      <td>4</td>\n",
       "      <td>1372</td>\n",
       "      <td>303</td>\n",
       "      <td>42</td>\n",
       "      <td>2</td>\n",
       "      <td>2</td>\n",
       "      <td>1</td>\n",
       "      <td>173</td>\n",
       "      <td>...</td>\n",
       "      <td>98</td>\n",
       "      <td>3</td>\n",
       "      <td>48</td>\n",
       "      <td>2</td>\n",
       "      <td>1</td>\n",
       "      <td>0</td>\n",
       "      <td>0</td>\n",
       "      <td>1</td>\n",
       "      <td>1</td>\n",
       "      <td>1727</td>\n",
       "    </tr>\n",
       "    <tr>\n",
       "      <th>2</th>\n",
       "      <td>0</td>\n",
       "      <td>-0.317897</td>\n",
       "      <td>4</td>\n",
       "      <td>2833</td>\n",
       "      <td>389</td>\n",
       "      <td>42</td>\n",
       "      <td>3</td>\n",
       "      <td>58</td>\n",
       "      <td>2</td>\n",
       "      <td>178</td>\n",
       "      <td>...</td>\n",
       "      <td>44</td>\n",
       "      <td>4</td>\n",
       "      <td>260</td>\n",
       "      <td>4</td>\n",
       "      <td>0</td>\n",
       "      <td>0</td>\n",
       "      <td>1</td>\n",
       "      <td>1</td>\n",
       "      <td>0</td>\n",
       "      <td>1598</td>\n",
       "    </tr>\n",
       "    <tr>\n",
       "      <th>3</th>\n",
       "      <td>0</td>\n",
       "      <td>-0.355529</td>\n",
       "      <td>4</td>\n",
       "      <td>13341</td>\n",
       "      <td>466</td>\n",
       "      <td>42</td>\n",
       "      <td>2</td>\n",
       "      <td>14</td>\n",
       "      <td>2</td>\n",
       "      <td>282</td>\n",
       "      <td>...</td>\n",
       "      <td>44</td>\n",
       "      <td>4</td>\n",
       "      <td>260</td>\n",
       "      <td>4</td>\n",
       "      <td>0</td>\n",
       "      <td>0</td>\n",
       "      <td>1</td>\n",
       "      <td>1</td>\n",
       "      <td>0</td>\n",
       "      <td>1786</td>\n",
       "    </tr>\n",
       "    <tr>\n",
       "      <th>4</th>\n",
       "      <td>0</td>\n",
       "      <td>-0.355529</td>\n",
       "      <td>1</td>\n",
       "      <td>2712</td>\n",
       "      <td>413</td>\n",
       "      <td>42</td>\n",
       "      <td>2</td>\n",
       "      <td>2</td>\n",
       "      <td>1</td>\n",
       "      <td>241</td>\n",
       "      <td>...</td>\n",
       "      <td>44</td>\n",
       "      <td>2</td>\n",
       "      <td>40</td>\n",
       "      <td>3</td>\n",
       "      <td>1</td>\n",
       "      <td>0</td>\n",
       "      <td>1</td>\n",
       "      <td>1</td>\n",
       "      <td>0</td>\n",
       "      <td>723</td>\n",
       "    </tr>\n",
       "  </tbody>\n",
       "</table>\n",
       "<p>5 rows × 433 columns</p>\n",
       "</div>"
      ],
      "text/plain": [
       "   isFraud  TransactionAmt  ProductCD  card1  card2  card3  card4  card5  \\\n",
       "0        0       -0.278174          4  10095    500     42      1     38   \n",
       "1        0       -0.443337          4   1372    303     42      2      2   \n",
       "2        0       -0.317897          4   2833    389     42      3     58   \n",
       "3        0       -0.355529          4  13341    466     42      2     14   \n",
       "4        0       -0.355529          1   2712    413     42      2      2   \n",
       "\n",
       "   card6  addr1  ...  id_31  id_32  id_33  id_34  id_35  id_36  id_37  id_38  \\\n",
       "0      1    166  ...    123      3    164      3      1      0      1      1   \n",
       "1      1    173  ...     98      3     48      2      1      0      0      1   \n",
       "2      2    178  ...     44      4    260      4      0      0      1      1   \n",
       "3      2    282  ...     44      4    260      4      0      0      1      1   \n",
       "4      1    241  ...     44      2     40      3      1      0      1      1   \n",
       "\n",
       "   DeviceType  DeviceInfo  \n",
       "0           1         954  \n",
       "1           1        1727  \n",
       "2           0        1598  \n",
       "3           0        1786  \n",
       "4           0         723  \n",
       "\n",
       "[5 rows x 433 columns]"
      ]
     },
     "execution_count": 17,
     "metadata": {},
     "output_type": "execute_result"
    }
   ],
   "source": [
    "train_df.head()"
   ]
  },
  {
   "cell_type": "markdown",
   "id": "71b68613",
   "metadata": {
    "papermill": {
     "duration": 0.018879,
     "end_time": "2024-07-17T22:42:09.414455",
     "exception": false,
     "start_time": "2024-07-17T22:42:09.395576",
     "status": "completed"
    },
    "tags": []
   },
   "source": [
    "# Handle Class Imbalance (isFraud)"
   ]
  },
  {
   "cell_type": "code",
   "execution_count": 18,
   "id": "d8876e2d",
   "metadata": {
    "execution": {
     "iopub.execute_input": "2024-07-17T22:42:09.455358Z",
     "iopub.status.busy": "2024-07-17T22:42:09.454553Z",
     "iopub.status.idle": "2024-07-17T22:42:09.463960Z",
     "shell.execute_reply": "2024-07-17T22:42:09.462884Z"
    },
    "papermill": {
     "duration": 0.03254,
     "end_time": "2024-07-17T22:42:09.466373",
     "exception": false,
     "start_time": "2024-07-17T22:42:09.433833",
     "status": "completed"
    },
    "tags": []
   },
   "outputs": [
    {
     "data": {
      "text/plain": [
       "(569877, 20663)"
      ]
     },
     "execution_count": 18,
     "metadata": {},
     "output_type": "execute_result"
    }
   ],
   "source": [
    "(train_df['isFraud'] == 0).sum(), (train_df['isFraud'] == 1).sum()"
   ]
  },
  {
   "cell_type": "code",
   "execution_count": 19,
   "id": "7a6db6c2",
   "metadata": {
    "execution": {
     "iopub.execute_input": "2024-07-17T22:42:09.507683Z",
     "iopub.status.busy": "2024-07-17T22:42:09.506732Z",
     "iopub.status.idle": "2024-07-17T22:42:29.885857Z",
     "shell.execute_reply": "2024-07-17T22:42:29.884506Z"
    },
    "papermill": {
     "duration": 20.402521,
     "end_time": "2024-07-17T22:42:29.888568",
     "exception": false,
     "start_time": "2024-07-17T22:42:09.486047",
     "status": "completed"
    },
    "tags": []
   },
   "outputs": [
    {
     "name": "stdout",
     "output_type": "stream",
     "text": [
      "isFraud\n",
      "1    569877\n",
      "0    569877\n",
      "Name: count, dtype: int64\n"
     ]
    }
   ],
   "source": [
    "from sklearn.utils import resample\n",
    "\n",
    "# Separate the majority and minority classes\n",
    "minority_class = train_df[train_df['isFraud'] == 1]\n",
    "majority_class = train_df[train_df['isFraud'] == 0]\n",
    "\n",
    "# Upsample the minority class\n",
    "minority_upsampled = resample(minority_class, \n",
    "                              replace=True,     # sample with replacement\n",
    "                              n_samples=len(majority_class),  # match number in majority class\n",
    "                              random_state=42)  # reproducible results\n",
    "\n",
    "# Combine the upsampled minority class with the majority class\n",
    "train_df_balanced = pd.concat([minority_upsampled, majority_class])\n",
    "\n",
    "# Shuffle the resulting dataframe to mix the classes\n",
    "train_df_balanced = train_df_balanced.sample(frac=1, random_state=42).reset_index(drop=True)\n",
    "\n",
    "# Check the distribution of the classes\n",
    "print(train_df_balanced['isFraud'].value_counts())"
   ]
  },
  {
   "cell_type": "code",
   "execution_count": 20,
   "id": "0c9f8ae6",
   "metadata": {
    "execution": {
     "iopub.execute_input": "2024-07-17T22:42:29.931003Z",
     "iopub.status.busy": "2024-07-17T22:42:29.930553Z",
     "iopub.status.idle": "2024-07-17T22:42:29.935831Z",
     "shell.execute_reply": "2024-07-17T22:42:29.934746Z"
    },
    "papermill": {
     "duration": 0.028858,
     "end_time": "2024-07-17T22:42:29.938347",
     "exception": false,
     "start_time": "2024-07-17T22:42:29.909489",
     "status": "completed"
    },
    "tags": []
   },
   "outputs": [],
   "source": [
    "train_df = train_df_balanced"
   ]
  },
  {
   "cell_type": "code",
   "execution_count": 21,
   "id": "5ced55c8",
   "metadata": {
    "execution": {
     "iopub.execute_input": "2024-07-17T22:42:29.979949Z",
     "iopub.status.busy": "2024-07-17T22:42:29.979553Z",
     "iopub.status.idle": "2024-07-17T22:42:29.993588Z",
     "shell.execute_reply": "2024-07-17T22:42:29.992392Z"
    },
    "papermill": {
     "duration": 0.037403,
     "end_time": "2024-07-17T22:42:29.996111",
     "exception": false,
     "start_time": "2024-07-17T22:42:29.958708",
     "status": "completed"
    },
    "tags": []
   },
   "outputs": [
    {
     "name": "stdout",
     "output_type": "stream",
     "text": [
      "isFraud\n",
      "1    569877\n",
      "0    569877\n",
      "Name: count, dtype: int64\n"
     ]
    }
   ],
   "source": [
    "print(train_df['isFraud'].value_counts())"
   ]
  },
  {
   "cell_type": "markdown",
   "id": "decdeabd",
   "metadata": {
    "papermill": {
     "duration": 0.019532,
     "end_time": "2024-07-17T22:42:30.035469",
     "exception": false,
     "start_time": "2024-07-17T22:42:30.015937",
     "status": "completed"
    },
    "tags": []
   },
   "source": [
    "before we visualise the numerical columns"
   ]
  },
  {
   "cell_type": "code",
   "execution_count": 22,
   "id": "0548d1c6",
   "metadata": {
    "execution": {
     "iopub.execute_input": "2024-07-17T22:42:30.076827Z",
     "iopub.status.busy": "2024-07-17T22:42:30.076361Z",
     "iopub.status.idle": "2024-07-17T22:42:30.817442Z",
     "shell.execute_reply": "2024-07-17T22:42:30.816307Z"
    },
    "papermill": {
     "duration": 0.764961,
     "end_time": "2024-07-17T22:42:30.820091",
     "exception": false,
     "start_time": "2024-07-17T22:42:30.055130",
     "status": "completed"
    },
    "tags": []
   },
   "outputs": [],
   "source": [
    "# Calculate the percentage of null values in each column\n",
    "null_percentage = train_df.isnull().mean() * 100"
   ]
  },
  {
   "cell_type": "code",
   "execution_count": 23,
   "id": "056d6412",
   "metadata": {
    "execution": {
     "iopub.execute_input": "2024-07-17T22:42:30.861677Z",
     "iopub.status.busy": "2024-07-17T22:42:30.860530Z",
     "iopub.status.idle": "2024-07-17T22:42:30.868276Z",
     "shell.execute_reply": "2024-07-17T22:42:30.866853Z"
    },
    "papermill": {
     "duration": 0.030812,
     "end_time": "2024-07-17T22:42:30.870611",
     "exception": false,
     "start_time": "2024-07-17T22:42:30.839799",
     "status": "completed"
    },
    "tags": []
   },
   "outputs": [
    {
     "name": "stdout",
     "output_type": "stream",
     "text": [
      "Index(['dist1', 'dist2', 'D6', 'D7', 'D8', 'D9', 'D12', 'D13', 'D14', 'V138',\n",
      "       ...\n",
      "       'id_02', 'id_03', 'id_04', 'id_05', 'id_06', 'id_07', 'id_08', 'id_09',\n",
      "       'id_10', 'id_11'],\n",
      "      dtype='object', length=180)\n"
     ]
    }
   ],
   "source": [
    "# Set a threshold for the null percentage\n",
    "threshold = 60  # For example, consider columns with more than 60% null values\n",
    "# Filter the columns based on the null percentage threshold\n",
    "filtered_columns = null_percentage[null_percentage > threshold].index\n",
    "print(filtered_columns)"
   ]
  },
  {
   "cell_type": "code",
   "execution_count": 24,
   "id": "cbf85e04",
   "metadata": {
    "execution": {
     "iopub.execute_input": "2024-07-17T22:42:30.911796Z",
     "iopub.status.busy": "2024-07-17T22:42:30.911362Z",
     "iopub.status.idle": "2024-07-17T22:42:31.399602Z",
     "shell.execute_reply": "2024-07-17T22:42:31.398341Z"
    },
    "papermill": {
     "duration": 0.512186,
     "end_time": "2024-07-17T22:42:31.402328",
     "exception": false,
     "start_time": "2024-07-17T22:42:30.890142",
     "status": "completed"
    },
    "tags": []
   },
   "outputs": [],
   "source": [
    "# Create a new DataFrame with the filtered columns\n",
    "train_df_filtered = train_df[filtered_columns]"
   ]
  },
  {
   "cell_type": "code",
   "execution_count": 25,
   "id": "a4453a18",
   "metadata": {
    "execution": {
     "iopub.execute_input": "2024-07-17T22:42:31.444010Z",
     "iopub.status.busy": "2024-07-17T22:42:31.443018Z",
     "iopub.status.idle": "2024-07-17T22:42:31.451737Z",
     "shell.execute_reply": "2024-07-17T22:42:31.450339Z"
    },
    "papermill": {
     "duration": 0.032601,
     "end_time": "2024-07-17T22:42:31.454585",
     "exception": false,
     "start_time": "2024-07-17T22:42:31.421984",
     "status": "completed"
    },
    "tags": []
   },
   "outputs": [
    {
     "name": "stdout",
     "output_type": "stream",
     "text": [
      "Numerical columns:  ['TransactionAmt', 'C1', 'C2', 'C3', 'C4', 'C5', 'C6', 'C7', 'C8', 'C9', 'C10', 'C11', 'C12', 'C13', 'C14', 'D1', 'D2', 'D3', 'D4', 'D5', 'D10', 'D11', 'D15', 'V1', 'V2', 'V3', 'V4', 'V5', 'V6', 'V7', 'V8', 'V9', 'V10', 'V11', 'V12', 'V13', 'V14', 'V15', 'V16', 'V17', 'V18', 'V19', 'V20', 'V21', 'V22', 'V23', 'V24', 'V25', 'V26', 'V27', 'V28', 'V29', 'V30', 'V31', 'V32', 'V33', 'V34', 'V35', 'V36', 'V37', 'V38', 'V39', 'V40', 'V41', 'V42', 'V43', 'V44', 'V45', 'V46', 'V47', 'V48', 'V49', 'V50', 'V51', 'V52', 'V53', 'V54', 'V55', 'V56', 'V57', 'V58', 'V59', 'V60', 'V61', 'V62', 'V63', 'V64', 'V65', 'V66', 'V67', 'V68', 'V69', 'V70', 'V71', 'V72', 'V73', 'V74', 'V75', 'V76', 'V77', 'V78', 'V79', 'V80', 'V81', 'V82', 'V83', 'V84', 'V85', 'V86', 'V87', 'V88', 'V89', 'V90', 'V91', 'V92', 'V93', 'V94', 'V95', 'V96', 'V97', 'V98', 'V99', 'V100', 'V101', 'V102', 'V103', 'V104', 'V105', 'V106', 'V107', 'V108', 'V109', 'V110', 'V111', 'V112', 'V113', 'V114', 'V115', 'V116', 'V117', 'V118', 'V119', 'V120', 'V121', 'V122', 'V123', 'V124', 'V125', 'V126', 'V127', 'V128', 'V129', 'V130', 'V131', 'V132', 'V133', 'V134', 'V135', 'V136', 'V137', 'V279', 'V280', 'V281', 'V282', 'V283', 'V284', 'V285', 'V286', 'V287', 'V288', 'V289', 'V290', 'V291', 'V292', 'V293', 'V294', 'V295', 'V296', 'V297', 'V298', 'V299', 'V300', 'V301', 'V302', 'V303', 'V304', 'V305', 'V306', 'V307', 'V308', 'V309', 'V310', 'V311', 'V312', 'V313', 'V314', 'V315', 'V316', 'V317', 'V318', 'V319', 'V320', 'V321']\n",
      "Categoric columns:  ['ProductCD', 'card1', 'card2', 'card3', 'card4', 'card5', 'card6', 'addr1', 'addr2', 'P_emaildomain', 'R_emaildomain', 'M1', 'M2', 'M3', 'M4', 'M5', 'M6', 'M7', 'M8', 'M9', 'DeviceType', 'DeviceInfo', 'id_12', 'id_13', 'id_14', 'id_15', 'id_16', 'id_17', 'id_18', 'id_19', 'id_20', 'id_21', 'id_22', 'id_23', 'id_24', 'id_25', 'id_26', 'id_27', 'id_28', 'id_29', 'id_30', 'id_31', 'id_32', 'id_33', 'id_34', 'id_35', 'id_36', 'id_37', 'id_38']\n"
     ]
    }
   ],
   "source": [
    "for i in filtered_columns:\n",
    "    if i in categoric_columns:\n",
    "        categoric_columns.remove(i)\n",
    "    else:\n",
    "        if i in numeric_columns:\n",
    "            numeric_columns.remove(i)\n",
    "            \n",
    "print('Numerical columns: ', numeric_columns)\n",
    "print('Categoric columns: ', categoric_columns)"
   ]
  },
  {
   "cell_type": "markdown",
   "id": "aab62ac5",
   "metadata": {
    "papermill": {
     "duration": 0.019419,
     "end_time": "2024-07-17T22:42:31.493780",
     "exception": false,
     "start_time": "2024-07-17T22:42:31.474361",
     "status": "completed"
    },
    "tags": []
   },
   "source": [
    "Distribution of all numeric colums"
   ]
  },
  {
   "cell_type": "markdown",
   "id": "35f6f746",
   "metadata": {
    "papermill": {
     "duration": 0.019222,
     "end_time": "2024-07-17T22:42:31.532626",
     "exception": false,
     "start_time": "2024-07-17T22:42:31.513404",
     "status": "completed"
    },
    "tags": []
   },
   "source": [
    "**Statistical Analysis - Feature Importance**"
   ]
  },
  {
   "cell_type": "markdown",
   "id": "8a9a75be",
   "metadata": {
    "papermill": {
     "duration": 0.019569,
     "end_time": "2024-07-17T22:42:31.571832",
     "exception": false,
     "start_time": "2024-07-17T22:42:31.552263",
     "status": "completed"
    },
    "tags": []
   },
   "source": [
    "1. Performing ANOVA Test to Analyze the Numerical Features Importance in Fraud detection."
   ]
  },
  {
   "cell_type": "code",
   "execution_count": 26,
   "id": "7d98b804",
   "metadata": {
    "execution": {
     "iopub.execute_input": "2024-07-17T22:42:31.613213Z",
     "iopub.status.busy": "2024-07-17T22:42:31.612818Z",
     "iopub.status.idle": "2024-07-17T22:42:32.101634Z",
     "shell.execute_reply": "2024-07-17T22:42:32.100480Z"
    },
    "papermill": {
     "duration": 0.512521,
     "end_time": "2024-07-17T22:42:32.104442",
     "exception": false,
     "start_time": "2024-07-17T22:42:31.591921",
     "status": "completed"
    },
    "tags": []
   },
   "outputs": [],
   "source": [
    "f_scores = {}\n",
    "p_values = {}\n",
    "\n",
    "for column in numeric_columns[:20]:\n",
    "    f_score, p_value = stats.f_oneway(train_df[column], train_df[\"isFraud\"])\n",
    "    \n",
    "    f_scores[column] = f_score\n",
    "    p_values[column] = p_value"
   ]
  },
  {
   "cell_type": "code",
   "execution_count": 27,
   "id": "4d7cd106",
   "metadata": {
    "execution": {
     "iopub.execute_input": "2024-07-17T22:42:32.147090Z",
     "iopub.status.busy": "2024-07-17T22:42:32.146270Z",
     "iopub.status.idle": "2024-07-17T22:42:32.681053Z",
     "shell.execute_reply": "2024-07-17T22:42:32.679937Z"
    },
    "papermill": {
     "duration": 0.558497,
     "end_time": "2024-07-17T22:42:32.683610",
     "exception": false,
     "start_time": "2024-07-17T22:42:32.125113",
     "status": "completed"
    },
    "tags": []
   },
   "outputs": [
    {
     "data": {
      "image/png": "[encoded data removed]",
      "text/plain": [
       "<Figure size 1500x600 with 1 Axes>"
      ]
     },
     "metadata": {},
     "output_type": "display_data"
    }
   ],
   "source": [
    "# Assuming f_scores is a dictionary with keys and values\n",
    "keys = list(f_scores.keys())\n",
    "values = list(f_scores.values())\n",
    "\n",
    "plt.figure(figsize=(15, 6))\n",
    "sns.barplot(x=keys, y=values)\n",
    "plt.title(\"Anova-Test F_scores Comparison\", fontweight=\"black\", size=16, pad=15)\n",
    "plt.xticks(rotation=90)\n",
    "\n",
    "# Adding annotations\n",
    "for index, value in enumerate(values):\n",
    "    if not np.isnan(value):  # Check if the value is not NaN\n",
    "        plt.text(index, value, f'{int(value)}', ha='center', va='bottom', size=14)\n",
    "\n",
    "plt.show()"
   ]
  },
  {
   "cell_type": "markdown",
   "id": "441242e9",
   "metadata": {
    "papermill": {
     "duration": 0.021336,
     "end_time": "2024-07-17T22:42:32.725533",
     "exception": false,
     "start_time": "2024-07-17T22:42:32.704197",
     "status": "completed"
    },
    "tags": []
   },
   "source": [
    "# Train Test Split"
   ]
  },
  {
   "cell_type": "code",
   "execution_count": 28,
   "id": "f7277b19",
   "metadata": {
    "execution": {
     "iopub.execute_input": "2024-07-17T22:42:32.768682Z",
     "iopub.status.busy": "2024-07-17T22:42:32.768262Z",
     "iopub.status.idle": "2024-07-17T22:42:33.935499Z",
     "shell.execute_reply": "2024-07-17T22:42:33.934314Z"
    },
    "papermill": {
     "duration": 1.192062,
     "end_time": "2024-07-17T22:42:33.938326",
     "exception": false,
     "start_time": "2024-07-17T22:42:32.746264",
     "status": "completed"
    },
    "tags": []
   },
   "outputs": [],
   "source": [
    "X = train_df.drop(columns='isFraud')\n",
    "y = train_df['isFraud']"
   ]
  },
  {
   "cell_type": "code",
   "execution_count": 29,
   "id": "942d8b42",
   "metadata": {
    "execution": {
     "iopub.execute_input": "2024-07-17T22:42:33.982947Z",
     "iopub.status.busy": "2024-07-17T22:42:33.982524Z",
     "iopub.status.idle": "2024-07-17T22:42:33.989612Z",
     "shell.execute_reply": "2024-07-17T22:42:33.988543Z"
    },
    "papermill": {
     "duration": 0.031805,
     "end_time": "2024-07-17T22:42:33.992070",
     "exception": false,
     "start_time": "2024-07-17T22:42:33.960265",
     "status": "completed"
    },
    "tags": []
   },
   "outputs": [
    {
     "data": {
      "text/plain": [
       "(1139754, 432)"
      ]
     },
     "execution_count": 29,
     "metadata": {},
     "output_type": "execute_result"
    }
   ],
   "source": [
    "X.shape"
   ]
  },
  {
   "cell_type": "code",
   "execution_count": 30,
   "id": "3d847906",
   "metadata": {
    "execution": {
     "iopub.execute_input": "2024-07-17T22:42:34.035976Z",
     "iopub.status.busy": "2024-07-17T22:42:34.035565Z",
     "iopub.status.idle": "2024-07-17T22:42:34.042539Z",
     "shell.execute_reply": "2024-07-17T22:42:34.041458Z"
    },
    "papermill": {
     "duration": 0.031339,
     "end_time": "2024-07-17T22:42:34.044792",
     "exception": false,
     "start_time": "2024-07-17T22:42:34.013453",
     "status": "completed"
    },
    "tags": []
   },
   "outputs": [
    {
     "data": {
      "text/plain": [
       "(1139754,)"
      ]
     },
     "execution_count": 30,
     "metadata": {},
     "output_type": "execute_result"
    }
   ],
   "source": [
    "y.shape"
   ]
  },
  {
   "cell_type": "code",
   "execution_count": 31,
   "id": "b6d51085",
   "metadata": {
    "execution": {
     "iopub.execute_input": "2024-07-17T22:42:34.088306Z",
     "iopub.status.busy": "2024-07-17T22:42:34.087885Z",
     "iopub.status.idle": "2024-07-17T22:42:39.304968Z",
     "shell.execute_reply": "2024-07-17T22:42:39.303752Z"
    },
    "papermill": {
     "duration": 5.242194,
     "end_time": "2024-07-17T22:42:39.307792",
     "exception": false,
     "start_time": "2024-07-17T22:42:34.065598",
     "status": "completed"
    },
    "tags": []
   },
   "outputs": [],
   "source": [
    "from sklearn.model_selection import train_test_split\n",
    "\n",
    "X_train,X_test,y_train,y_test=train_test_split(X,y,test_size=.2,random_state=42)"
   ]
  },
  {
   "cell_type": "markdown",
   "id": "c31046fc",
   "metadata": {
    "papermill": {
     "duration": 0.021209,
     "end_time": "2024-07-17T22:42:39.350275",
     "exception": false,
     "start_time": "2024-07-17T22:42:39.329066",
     "status": "completed"
    },
    "tags": []
   },
   "source": [
    "# Model Test"
   ]
  },
  {
   "cell_type": "code",
   "execution_count": 32,
   "id": "40107d97",
   "metadata": {
    "execution": {
     "iopub.execute_input": "2024-07-17T22:42:39.394486Z",
     "iopub.status.busy": "2024-07-17T22:42:39.393619Z",
     "iopub.status.idle": "2024-07-17T22:43:52.294653Z",
     "shell.execute_reply": "2024-07-17T22:43:52.293494Z"
    },
    "papermill": {
     "duration": 72.947027,
     "end_time": "2024-07-17T22:43:52.318339",
     "exception": false,
     "start_time": "2024-07-17T22:42:39.371312",
     "status": "completed"
    },
    "tags": []
   },
   "outputs": [
    {
     "data": {
      "text/html": [
       "<style>#sk-container-id-1 {\n",
       "  /* Definition of color scheme common for light and dark mode */\n",
       "  --sklearn-color-text: black;\n",
       "  --sklearn-color-line: gray;\n",
       "  /* Definition of color scheme for unfitted estimators */\n",
       "  --sklearn-color-unfitted-level-0: #fff5e6;\n",
       "  --sklearn-color-unfitted-level-1: #f6e4d2;\n",
       "  --sklearn-color-unfitted-level-2: #ffe0b3;\n",
       "  --sklearn-color-unfitted-level-3: chocolate;\n",
       "  /* Definition of color scheme for fitted estimators */\n",
       "  --sklearn-color-fitted-level-0: #f0f8ff;\n",
       "  --sklearn-color-fitted-level-1: #d4ebff;\n",
       "  --sklearn-color-fitted-level-2: #b3dbfd;\n",
       "  --sklearn-color-fitted-level-3: cornflowerblue;\n",
       "\n",
       "  /* Specific color for light theme */\n",
       "  --sklearn-color-text-on-default-background: var(--sg-text-color, var(--theme-code-foreground, var(--jp-content-font-color1, black)));\n",
       "  --sklearn-color-background: var(--sg-background-color, var(--theme-background, var(--jp-layout-color0, white)));\n",
       "  --sklearn-color-border-box: var(--sg-text-color, var(--theme-code-foreground, var(--jp-content-font-color1, black)));\n",
       "  --sklearn-color-icon: #696969;\n",
       "\n",
       "  @media (prefers-color-scheme: dark) {\n",
       "    /* Redefinition of color scheme for dark theme */\n",
       "    --sklearn-color-text-on-default-background: var(--sg-text-color, var(--theme-code-foreground, var(--jp-content-font-color1, white)));\n",
       "    --sklearn-color-background: var(--sg-background-color, var(--theme-background, var(--jp-layout-color0, #111)));\n",
       "    --sklearn-color-border-box: var(--sg-text-color, var(--theme-code-foreground, var(--jp-content-font-color1, white)));\n",
       "    --sklearn-color-icon: #878787;\n",
       "  }\n",
       "}\n",
       "\n",
       "#sk-container-id-1 {\n",
       "  color: var(--sklearn-color-text);\n",
       "}\n",
       "\n",
       "#sk-container-id-1 pre {\n",
       "  padding: 0;\n",
       "}\n",
       "\n",
       "#sk-container-id-1 input.sk-hidden--visually {\n",
       "  border: 0;\n",
       "  clip: rect(1px 1px 1px 1px);\n",
       "  clip: rect(1px, 1px, 1px, 1px);\n",
       "  height: 1px;\n",
       "  margin: -1px;\n",
       "  overflow: hidden;\n",
       "  padding: 0;\n",
       "  position: absolute;\n",
       "  width: 1px;\n",
       "}\n",
       "\n",
       "#sk-container-id-1 div.sk-dashed-wrapped {\n",
       "  border: 1px dashed var(--sklearn-color-line);\n",
       "  margin: 0 0.4em 0.5em 0.4em;\n",
       "  box-sizing: border-box;\n",
       "  padding-bottom: 0.4em;\n",
       "  background-color: var(--sklearn-color-background);\n",
       "}\n",
       "\n",
       "#sk-container-id-1 div.sk-container {\n",
       "  /* jupyter's `normalize.less` sets `[hidden] { display: none; }`\n",
       "     but bootstrap.min.css set `[hidden] { display: none !important; }`\n",
       "     so we also need the `!important` here to be able to override the\n",
       "     default hidden behavior on the sphinx rendered scikit-learn.org.\n",
       "     See: https://github.com/scikit-learn/scikit-learn/issues/21755 */\n",
       "  display: inline-block !important;\n",
       "  position: relative;\n",
       "}\n",
       "\n",
       "#sk-container-id-1 div.sk-text-repr-fallback {\n",
       "  display: none;\n",
       "}\n",
       "\n",
       "div.sk-parallel-item,\n",
       "div.sk-serial,\n",
       "div.sk-item {\n",
       "  /* draw centered vertical line to link estimators */\n",
       "  background-image: linear-gradient(var(--sklearn-color-text-on-default-background), var(--sklearn-color-text-on-default-background));\n",
       "  background-size: 2px 100%;\n",
       "  background-repeat: no-repeat;\n",
       "  background-position: center center;\n",
       "}\n",
       "\n",
       "/* Parallel-specific style estimator block */\n",
       "\n",
       "#sk-container-id-1 div.sk-parallel-item::after {\n",
       "  content: \"\";\n",
       "  width: 100%;\n",
       "  border-bottom: 2px solid var(--sklearn-color-text-on-default-background);\n",
       "  flex-grow: 1;\n",
       "}\n",
       "\n",
       "#sk-container-id-1 div.sk-parallel {\n",
       "  display: flex;\n",
       "  align-items: stretch;\n",
       "  justify-content: center;\n",
       "  background-color: var(--sklearn-color-background);\n",
       "  position: relative;\n",
       "}\n",
       "\n",
       "#sk-container-id-1 div.sk-parallel-item {\n",
       "  display: flex;\n",
       "  flex-direction: column;\n",
       "}\n",
       "\n",
       "#sk-container-id-1 div.sk-parallel-item:first-child::after {\n",
       "  align-self: flex-end;\n",
       "  width: 50%;\n",
       "}\n",
       "\n",
       "#sk-container-id-1 div.sk-parallel-item:last-child::after {\n",
       "  align-self: flex-start;\n",
       "  width: 50%;\n",
       "}\n",
       "\n",
       "#sk-container-id-1 div.sk-parallel-item:only-child::after {\n",
       "  width: 0;\n",
       "}\n",
       "\n",
       "/* Serial-specific style estimator block */\n",
       "\n",
       "#sk-container-id-1 div.sk-serial {\n",
       "  display: flex;\n",
       "  flex-direction: column;\n",
       "  align-items: center;\n",
       "  background-color: var(--sklearn-color-background);\n",
       "  padding-right: 1em;\n",
       "  padding-left: 1em;\n",
       "}\n",
       "\n",
       "\n",
       "/* Toggleable style: style used for estimator/Pipeline/ColumnTransformer box that is\n",
       "clickable and can be expanded/collapsed.\n",
       "- Pipeline and ColumnTransformer use this feature and define the default style\n",
       "- Estimators will overwrite some part of the style using the `sk-estimator` class\n",
       "*/\n",
       "\n",
       "/* Pipeline and ColumnTransformer style (default) */\n",
       "\n",
       "#sk-container-id-1 div.sk-toggleable {\n",
       "  /* Default theme specific background. It is overwritten whether we have a\n",
       "  specific estimator or a Pipeline/ColumnTransformer */\n",
       "  background-color: var(--sklearn-color-background);\n",
       "}\n",
       "\n",
       "/* Toggleable label */\n",
       "#sk-container-id-1 label.sk-toggleable__label {\n",
       "  cursor: pointer;\n",
       "  display: block;\n",
       "  width: 100%;\n",
       "  margin-bottom: 0;\n",
       "  padding: 0.5em;\n",
       "  box-sizing: border-box;\n",
       "  text-align: center;\n",
       "}\n",
       "\n",
       "#sk-container-id-1 label.sk-toggleable__label-arrow:before {\n",
       "  /* Arrow on the left of the label */\n",
       "  content: \"▸\";\n",
       "  float: left;\n",
       "  margin-right: 0.25em;\n",
       "  color: var(--sklearn-color-icon);\n",
       "}\n",
       "\n",
       "#sk-container-id-1 label.sk-toggleable__label-arrow:hover:before {\n",
       "  color: var(--sklearn-color-text);\n",
       "}\n",
       "\n",
       "/* Toggleable content - dropdown */\n",
       "\n",
       "#sk-container-id-1 div.sk-toggleable__content {\n",
       "  max-height: 0;\n",
       "  max-width: 0;\n",
       "  overflow: hidden;\n",
       "  text-align: left;\n",
       "  /* unfitted */\n",
       "  background-color: var(--sklearn-color-unfitted-level-0);\n",
       "}\n",
       "\n",
       "#sk-container-id-1 div.sk-toggleable__content.fitted {\n",
       "  /* fitted */\n",
       "  background-color: var(--sklearn-color-fitted-level-0);\n",
       "}\n",
       "\n",
       "#sk-container-id-1 div.sk-toggleable__content pre {\n",
       "  margin: 0.2em;\n",
       "  border-radius: 0.25em;\n",
       "  color: var(--sklearn-color-text);\n",
       "  /* unfitted */\n",
       "  background-color: var(--sklearn-color-unfitted-level-0);\n",
       "}\n",
       "\n",
       "#sk-container-id-1 div.sk-toggleable__content.fitted pre {\n",
       "  /* unfitted */\n",
       "  background-color: var(--sklearn-color-fitted-level-0);\n",
       "}\n",
       "\n",
       "#sk-container-id-1 input.sk-toggleable__control:checked~div.sk-toggleable__content {\n",
       "  /* Expand drop-down */\n",
       "  max-height: 200px;\n",
       "  max-width: 100%;\n",
       "  overflow: auto;\n",
       "}\n",
       "\n",
       "#sk-container-id-1 input.sk-toggleable__control:checked~label.sk-toggleable__label-arrow:before {\n",
       "  content: \"▾\";\n",
       "}\n",
       "\n",
       "/* Pipeline/ColumnTransformer-specific style */\n",
       "\n",
       "#sk-container-id-1 div.sk-label input.sk-toggleable__control:checked~label.sk-toggleable__label {\n",
       "  color: var(--sklearn-color-text);\n",
       "  background-color: var(--sklearn-color-unfitted-level-2);\n",
       "}\n",
       "\n",
       "#sk-container-id-1 div.sk-label.fitted input.sk-toggleable__control:checked~label.sk-toggleable__label {\n",
       "  background-color: var(--sklearn-color-fitted-level-2);\n",
       "}\n",
       "\n",
       "/* Estimator-specific style */\n",
       "\n",
       "/* Colorize estimator box */\n",
       "#sk-container-id-1 div.sk-estimator input.sk-toggleable__control:checked~label.sk-toggleable__label {\n",
       "  /* unfitted */\n",
       "  background-color: var(--sklearn-color-unfitted-level-2);\n",
       "}\n",
       "\n",
       "#sk-container-id-1 div.sk-estimator.fitted input.sk-toggleable__control:checked~label.sk-toggleable__label {\n",
       "  /* fitted */\n",
       "  background-color: var(--sklearn-color-fitted-level-2);\n",
       "}\n",
       "\n",
       "#sk-container-id-1 div.sk-label label.sk-toggleable__label,\n",
       "#sk-container-id-1 div.sk-label label {\n",
       "  /* The background is the default theme color */\n",
       "  color: var(--sklearn-color-text-on-default-background);\n",
       "}\n",
       "\n",
       "/* On hover, darken the color of the background */\n",
       "#sk-container-id-1 div.sk-label:hover label.sk-toggleable__label {\n",
       "  color: var(--sklearn-color-text);\n",
       "  background-color: var(--sklearn-color-unfitted-level-2);\n",
       "}\n",
       "\n",
       "/* Label box, darken color on hover, fitted */\n",
       "#sk-container-id-1 div.sk-label.fitted:hover label.sk-toggleable__label.fitted {\n",
       "  color: var(--sklearn-color-text);\n",
       "  background-color: var(--sklearn-color-fitted-level-2);\n",
       "}\n",
       "\n",
       "/* Estimator label */\n",
       "\n",
       "#sk-container-id-1 div.sk-label label {\n",
       "  font-family: monospace;\n",
       "  font-weight: bold;\n",
       "  display: inline-block;\n",
       "  line-height: 1.2em;\n",
       "}\n",
       "\n",
       "#sk-container-id-1 div.sk-label-container {\n",
       "  text-align: center;\n",
       "}\n",
       "\n",
       "/* Estimator-specific */\n",
       "#sk-container-id-1 div.sk-estimator {\n",
       "  font-family: monospace;\n",
       "  border: 1px dotted var(--sklearn-color-border-box);\n",
       "  border-radius: 0.25em;\n",
       "  box-sizing: border-box;\n",
       "  margin-bottom: 0.5em;\n",
       "  /* unfitted */\n",
       "  background-color: var(--sklearn-color-unfitted-level-0);\n",
       "}\n",
       "\n",
       "#sk-container-id-1 div.sk-estimator.fitted {\n",
       "  /* fitted */\n",
       "  background-color: var(--sklearn-color-fitted-level-0);\n",
       "}\n",
       "\n",
       "/* on hover */\n",
       "#sk-container-id-1 div.sk-estimator:hover {\n",
       "  /* unfitted */\n",
       "  background-color: var(--sklearn-color-unfitted-level-2);\n",
       "}\n",
       "\n",
       "#sk-container-id-1 div.sk-estimator.fitted:hover {\n",
       "  /* fitted */\n",
       "  background-color: var(--sklearn-color-fitted-level-2);\n",
       "}\n",
       "\n",
       "/* Specification for estimator info (e.g. \"i\" and \"?\") */\n",
       "\n",
       "/* Common style for \"i\" and \"?\" */\n",
       "\n",
       ".sk-estimator-doc-link,\n",
       "a:link.sk-estimator-doc-link,\n",
       "a:visited.sk-estimator-doc-link {\n",
       "  float: right;\n",
       "  font-size: smaller;\n",
       "  line-height: 1em;\n",
       "  font-family: monospace;\n",
       "  background-color: var(--sklearn-color-background);\n",
       "  border-radius: 1em;\n",
       "  height: 1em;\n",
       "  width: 1em;\n",
       "  text-decoration: none !important;\n",
       "  margin-left: 1ex;\n",
       "  /* unfitted */\n",
       "  border: var(--sklearn-color-unfitted-level-1) 1pt solid;\n",
       "  color: var(--sklearn-color-unfitted-level-1);\n",
       "}\n",
       "\n",
       ".sk-estimator-doc-link.fitted,\n",
       "a:link.sk-estimator-doc-link.fitted,\n",
       "a:visited.sk-estimator-doc-link.fitted {\n",
       "  /* fitted */\n",
       "  border: var(--sklearn-color-fitted-level-1) 1pt solid;\n",
       "  color: var(--sklearn-color-fitted-level-1);\n",
       "}\n",
       "\n",
       "/* On hover */\n",
       "div.sk-estimator:hover .sk-estimator-doc-link:hover,\n",
       ".sk-estimator-doc-link:hover,\n",
       "div.sk-label-container:hover .sk-estimator-doc-link:hover,\n",
       ".sk-estimator-doc-link:hover {\n",
       "  /* unfitted */\n",
       "  background-color: var(--sklearn-color-unfitted-level-3);\n",
       "  color: var(--sklearn-color-background);\n",
       "  text-decoration: none;\n",
       "}\n",
       "\n",
       "div.sk-estimator.fitted:hover .sk-estimator-doc-link.fitted:hover,\n",
       ".sk-estimator-doc-link.fitted:hover,\n",
       "div.sk-label-container:hover .sk-estimator-doc-link.fitted:hover,\n",
       ".sk-estimator-doc-link.fitted:hover {\n",
       "  /* fitted */\n",
       "  background-color: var(--sklearn-color-fitted-level-3);\n",
       "  color: var(--sklearn-color-background);\n",
       "  text-decoration: none;\n",
       "}\n",
       "\n",
       "/* Span, style for the box shown on hovering the info icon */\n",
       ".sk-estimator-doc-link span {\n",
       "  display: none;\n",
       "  z-index: 9999;\n",
       "  position: relative;\n",
       "  font-weight: normal;\n",
       "  right: .2ex;\n",
       "  padding: .5ex;\n",
       "  margin: .5ex;\n",
       "  width: min-content;\n",
       "  min-width: 20ex;\n",
       "  max-width: 50ex;\n",
       "  color: var(--sklearn-color-text);\n",
       "  box-shadow: 2pt 2pt 4pt #999;\n",
       "  /* unfitted */\n",
       "  background: var(--sklearn-color-unfitted-level-0);\n",
       "  border: .5pt solid var(--sklearn-color-unfitted-level-3);\n",
       "}\n",
       "\n",
       ".sk-estimator-doc-link.fitted span {\n",
       "  /* fitted */\n",
       "  background: var(--sklearn-color-fitted-level-0);\n",
       "  border: var(--sklearn-color-fitted-level-3);\n",
       "}\n",
       "\n",
       ".sk-estimator-doc-link:hover span {\n",
       "  display: block;\n",
       "}\n",
       "\n",
       "/* \"?\"-specific style due to the `<a>` HTML tag */\n",
       "\n",
       "#sk-container-id-1 a.estimator_doc_link {\n",
       "  float: right;\n",
       "  font-size: 1rem;\n",
       "  line-height: 1em;\n",
       "  font-family: monospace;\n",
       "  background-color: var(--sklearn-color-background);\n",
       "  border-radius: 1rem;\n",
       "  height: 1rem;\n",
       "  width: 1rem;\n",
       "  text-decoration: none;\n",
       "  /* unfitted */\n",
       "  color: var(--sklearn-color-unfitted-level-1);\n",
       "  border: var(--sklearn-color-unfitted-level-1) 1pt solid;\n",
       "}\n",
       "\n",
       "#sk-container-id-1 a.estimator_doc_link.fitted {\n",
       "  /* fitted */\n",
       "  border: var(--sklearn-color-fitted-level-1) 1pt solid;\n",
       "  color: var(--sklearn-color-fitted-level-1);\n",
       "}\n",
       "\n",
       "/* On hover */\n",
       "#sk-container-id-1 a.estimator_doc_link:hover {\n",
       "  /* unfitted */\n",
       "  background-color: var(--sklearn-color-unfitted-level-3);\n",
       "  color: var(--sklearn-color-background);\n",
       "  text-decoration: none;\n",
       "}\n",
       "\n",
       "#sk-container-id-1 a.estimator_doc_link.fitted:hover {\n",
       "  /* fitted */\n",
       "  background-color: var(--sklearn-color-fitted-level-3);\n",
       "}\n",
       "</style><div id=\"sk-container-id-1\" class=\"sk-top-container\"><div class=\"sk-text-repr-fallback\"><pre>XGBClassifier(base_score=None, booster=None, callbacks=None,\n",
       "              colsample_bylevel=None, colsample_bynode=None,\n",
       "              colsample_bytree=None, device=None, early_stopping_rounds=None,\n",
       "              enable_categorical=False, eval_metric=None, feature_types=None,\n",
       "              gamma=None, grow_policy=None, importance_type=None,\n",
       "              interaction_constraints=None, learning_rate=None, max_bin=None,\n",
       "              max_cat_threshold=None, max_cat_to_onehot=None,\n",
       "              max_delta_step=None, max_depth=None, max_leaves=None,\n",
       "              min_child_weight=None, missing=nan, monotone_constraints=None,\n",
       "              multi_strategy=None, n_estimators=None, n_jobs=None,\n",
       "              num_parallel_tree=None, random_state=42, ...)</pre><b>In a Jupyter environment, please rerun this cell to show the HTML representation or trust the notebook. <br />On GitHub, the HTML representation is unable to render, please try loading this page with nbviewer.org.</b></div><div class=\"sk-container\" hidden><div class=\"sk-item\"><div class=\"sk-estimator fitted sk-toggleable\"><input class=\"sk-toggleable__control sk-hidden--visually\" id=\"sk-estimator-id-1\" type=\"checkbox\" checked><label for=\"sk-estimator-id-1\" class=\"sk-toggleable__label fitted sk-toggleable__label-arrow fitted\">&nbsp;XGBClassifier<span class=\"sk-estimator-doc-link fitted\">i<span>Fitted</span></span></label><div class=\"sk-toggleable__content fitted\"><pre>XGBClassifier(base_score=None, booster=None, callbacks=None,\n",
       "              colsample_bylevel=None, colsample_bynode=None,\n",
       "              colsample_bytree=None, device=None, early_stopping_rounds=None,\n",
       "              enable_categorical=False, eval_metric=None, feature_types=None,\n",
       "              gamma=None, grow_policy=None, importance_type=None,\n",
       "              interaction_constraints=None, learning_rate=None, max_bin=None,\n",
       "              max_cat_threshold=None, max_cat_to_onehot=None,\n",
       "              max_delta_step=None, max_depth=None, max_leaves=None,\n",
       "              min_child_weight=None, missing=nan, monotone_constraints=None,\n",
       "              multi_strategy=None, n_estimators=None, n_jobs=None,\n",
       "              num_parallel_tree=None, random_state=42, ...)</pre></div> </div></div></div></div>"
      ],
      "text/plain": [
       "XGBClassifier(base_score=None, booster=None, callbacks=None,\n",
       "              colsample_bylevel=None, colsample_bynode=None,\n",
       "              colsample_bytree=None, device=None, early_stopping_rounds=None,\n",
       "              enable_categorical=False, eval_metric=None, feature_types=None,\n",
       "              gamma=None, grow_policy=None, importance_type=None,\n",
       "              interaction_constraints=None, learning_rate=None, max_bin=None,\n",
       "              max_cat_threshold=None, max_cat_to_onehot=None,\n",
       "              max_delta_step=None, max_depth=None, max_leaves=None,\n",
       "              min_child_weight=None, missing=nan, monotone_constraints=None,\n",
       "              multi_strategy=None, n_estimators=None, n_jobs=None,\n",
       "              num_parallel_tree=None, random_state=42, ...)"
      ]
     },
     "execution_count": 32,
     "metadata": {},
     "output_type": "execute_result"
    }
   ],
   "source": [
    "from xgboost import XGBClassifier\n",
    "\n",
    "# Instantiate XGBoost classifier\n",
    "model = XGBClassifier(random_state=42)\n",
    "model.fit(X_train, y_train)"
   ]
  },
  {
   "cell_type": "code",
   "execution_count": 33,
   "id": "919ab145",
   "metadata": {
    "execution": {
     "iopub.execute_input": "2024-07-17T22:43:52.363136Z",
     "iopub.status.busy": "2024-07-17T22:43:52.362394Z",
     "iopub.status.idle": "2024-07-17T22:43:53.953154Z",
     "shell.execute_reply": "2024-07-17T22:43:53.951880Z"
    },
    "papermill": {
     "duration": 1.616336,
     "end_time": "2024-07-17T22:43:53.955904",
     "exception": false,
     "start_time": "2024-07-17T22:43:52.339568",
     "status": "completed"
    },
    "tags": []
   },
   "outputs": [
    {
     "name": "stdout",
     "output_type": "stream",
     "text": [
      "Accuracy: 0.90\n",
      "              precision    recall  f1-score   support\n",
      "\n",
      "           0       0.88      0.92      0.90    113773\n",
      "           1       0.92      0.88      0.90    114178\n",
      "\n",
      "    accuracy                           0.90    227951\n",
      "   macro avg       0.90      0.90      0.90    227951\n",
      "weighted avg       0.90      0.90      0.90    227951\n",
      "\n"
     ]
    }
   ],
   "source": [
    "y_pred = model.predict(X_test)\n",
    "\n",
    "from sklearn.metrics import accuracy_score, classification_report\n",
    "\n",
    "# Calculate accuracy\n",
    "accuracy = accuracy_score(y_test, y_pred)\n",
    "print(f\"Accuracy: {accuracy:.2f}\")\n",
    "\n",
    "# Print classification report\n",
    "print(classification_report(y_test, y_pred))"
   ]
  },
  {
   "cell_type": "code",
   "execution_count": 34,
   "id": "02e68cbf",
   "metadata": {
    "execution": {
     "iopub.execute_input": "2024-07-17T22:43:54.001535Z",
     "iopub.status.busy": "2024-07-17T22:43:54.000761Z",
     "iopub.status.idle": "2024-07-17T22:43:55.118607Z",
     "shell.execute_reply": "2024-07-17T22:43:55.117606Z"
    },
    "papermill": {
     "duration": 1.143454,
     "end_time": "2024-07-17T22:43:55.121243",
     "exception": false,
     "start_time": "2024-07-17T22:43:53.977789",
     "status": "completed"
    },
    "tags": []
   },
   "outputs": [],
   "source": [
    "# Predict probabilities for the test set\n",
    "y_pred_proba = model.predict_proba(X_test)[:, 1]  # Probability of class 1 (positive class)"
   ]
  },
  {
   "cell_type": "code",
   "execution_count": 35,
   "id": "031c37b3",
   "metadata": {
    "execution": {
     "iopub.execute_input": "2024-07-17T22:43:55.170252Z",
     "iopub.status.busy": "2024-07-17T22:43:55.169823Z",
     "iopub.status.idle": "2024-07-17T22:43:55.259395Z",
     "shell.execute_reply": "2024-07-17T22:43:55.258262Z"
    },
    "papermill": {
     "duration": 0.115306,
     "end_time": "2024-07-17T22:43:55.261954",
     "exception": false,
     "start_time": "2024-07-17T22:43:55.146648",
     "status": "completed"
    },
    "tags": []
   },
   "outputs": [
    {
     "name": "stdout",
     "output_type": "stream",
     "text": [
      "AUC-ROC Score: 0.97\n"
     ]
    }
   ],
   "source": [
    "from sklearn.metrics import roc_auc_score\n",
    "\n",
    "# Calculate AUC-ROC score\n",
    "auc_roc = roc_auc_score(y_test, y_pred_proba)\n",
    "print(f\"AUC-ROC Score: {auc_roc:.2f}\")"
   ]
  },
  {
   "cell_type": "markdown",
   "id": "f2c24325",
   "metadata": {
    "papermill": {
     "duration": 0.021522,
     "end_time": "2024-07-17T22:43:55.305207",
     "exception": false,
     "start_time": "2024-07-17T22:43:55.283685",
     "status": "completed"
    },
    "tags": []
   },
   "source": [
    "# **Lets test with our test dataset**"
   ]
  },
  {
   "cell_type": "code",
   "execution_count": 36,
   "id": "41fdeb68",
   "metadata": {
    "execution": {
     "iopub.execute_input": "2024-07-17T22:43:55.350536Z",
     "iopub.status.busy": "2024-07-17T22:43:55.350113Z",
     "iopub.status.idle": "2024-07-17T22:44:29.227664Z",
     "shell.execute_reply": "2024-07-17T22:44:29.226384Z"
    },
    "papermill": {
     "duration": 33.924469,
     "end_time": "2024-07-17T22:44:29.251432",
     "exception": false,
     "start_time": "2024-07-17T22:43:55.326963",
     "status": "completed"
    },
    "tags": []
   },
   "outputs": [
    {
     "name": "stdout",
     "output_type": "stream",
     "text": [
      "Mem. usage decreased to 25.44 Mb (42.7% reduction)\n",
      "Mem. usage decreased to 472.59 Mb (68.9% reduction)\n"
     ]
    }
   ],
   "source": [
    "df_test_id = import_data('test_identity.csv')\n",
    "df_test_tr = import_data('test_transaction.csv')"
   ]
  },
  {
   "cell_type": "code",
   "execution_count": 37,
   "id": "69c1ff9d",
   "metadata": {
    "execution": {
     "iopub.execute_input": "2024-07-17T22:44:29.298738Z",
     "iopub.status.busy": "2024-07-17T22:44:29.298300Z",
     "iopub.status.idle": "2024-07-17T22:44:29.305559Z",
     "shell.execute_reply": "2024-07-17T22:44:29.304571Z"
    },
    "papermill": {
     "duration": 0.03372,
     "end_time": "2024-07-17T22:44:29.307846",
     "exception": false,
     "start_time": "2024-07-17T22:44:29.274126",
     "status": "completed"
    },
    "tags": []
   },
   "outputs": [
    {
     "data": {
      "text/plain": [
       "(506691, 393)"
      ]
     },
     "execution_count": 37,
     "metadata": {},
     "output_type": "execute_result"
    }
   ],
   "source": [
    "df_test_tr.shape"
   ]
  },
  {
   "cell_type": "markdown",
   "id": "591f8be9",
   "metadata": {
    "papermill": {
     "duration": 0.022496,
     "end_time": "2024-07-17T22:44:29.352617",
     "exception": false,
     "start_time": "2024-07-17T22:44:29.330121",
     "status": "completed"
    },
    "tags": []
   },
   "source": [
    "Our training dataset has more records than our testing dataset"
   ]
  },
  {
   "cell_type": "code",
   "execution_count": 38,
   "id": "f1c68974",
   "metadata": {
    "execution": {
     "iopub.execute_input": "2024-07-17T22:44:29.399336Z",
     "iopub.status.busy": "2024-07-17T22:44:29.398889Z",
     "iopub.status.idle": "2024-07-17T22:44:29.406087Z",
     "shell.execute_reply": "2024-07-17T22:44:29.404591Z"
    },
    "papermill": {
     "duration": 0.033699,
     "end_time": "2024-07-17T22:44:29.408581",
     "exception": false,
     "start_time": "2024-07-17T22:44:29.374882",
     "status": "completed"
    },
    "tags": []
   },
   "outputs": [
    {
     "name": "stdout",
     "output_type": "stream",
     "text": [
      "The difference in rows is training rows 1139754 minus testing rows 506691 = 633063\n"
     ]
    }
   ],
   "source": [
    "tr_rows,tr_columns = train_df.shape\n",
    "te_rows,te_columns = df_test_tr.shape\n",
    "\n",
    "print(f'The difference in rows is training rows {tr_rows} minus testing rows {te_rows} = {tr_rows - te_rows}')"
   ]
  }
 ],
 "metadata": {
  "kaggle": {
   "accelerator": "none",
   "dataSources": [
    {
     "databundleVersionId": 568274,
     "sourceId": 14242,
     "sourceType": "competition"
    }
   ],
   "dockerImageVersionId": 30732,
   "isGpuEnabled": false,
   "isInternetEnabled": true,
   "language": "python",
   "sourceType": "notebook"
  },
  "kernelspec": {
   "display_name": "Python 3",
   "language": "python",
   "name": "python3"
  },
  "language_info": {
   "codemirror_mode": {
    "name": "ipython",
    "version": 3
   },
   "file_extension": ".py",
   "mimetype": "text/x-python",
   "name": "python",
   "nbconvert_exporter": "python",
   "pygments_lexer": "ipython3",
   "version": "3.10.14"
  },
  "papermill": {
   "default_parameters": {},
   "duration": 235.800217,
   "end_time": "2024-07-17T22:44:31.003686",
   "environment_variables": {},
   "exception": null,
   "input_path": "__notebook__.ipynb",
   "output_path": "__notebook__.ipynb",
   "parameters": {},
   "start_time": "2024-07-17T22:40:35.203469",
   "version": "2.5.0"
  }
 },
 "nbformat": 4,
 "nbformat_minor": 5
}
